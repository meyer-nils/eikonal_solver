{
    "cells": [
        {
            "attachments": {},
            "cell_type": "markdown",
            "metadata": {},
            "source": [
                "# Simple solution of a modified Eikonal equation\n",
                "We solve a modified version of the Eikonal equation. The mesh should contain a boundary group labeled `inlet` to locate the inlet boundary condition."
            ]
        },
        {
            "attachments": {},
            "cell_type": "markdown",
            "metadata": {},
            "source": [
                "## Import mesh to create topology and geometry\n",
                "The mesh can be a 1D, 2D or 3D mesh. The elements must be linear and there must be a boundary named `inlet`. "
            ]
        },
        {
            "cell_type": "code",
            "execution_count": 22,
            "metadata": {},
            "outputs": [
                {
                    "name": "stdout",
                    "output_type": "stream",
                    "text": [
                        "gmsh > loaded 3d gmsh topology consisting of #18521 elements\n",
                        "- volume groups: domain #18521\n",
                        "- boundary groups: walls #12146, inlet #44\n"
                    ]
                }
            ],
            "source": [
                "import os \n",
                "import numpy as np\n",
                "\n",
                "from nutils import function, mesh, solver, export\n",
                "from nutils.expression_v2 import Namespace\n",
                "\n",
                "# Nutils namespace\n",
                "ns = Namespace()\n",
                "\n",
                "# Geometry\n",
                "mesh_name = os.path.join(\"meshes\", \"gearbox.msh\")\n",
                "domain, geom = mesh.gmsh(mesh_name)\n",
                "\n",
                "# Define the geometry variable x as well as gradients, normal and jacobians on the domain.\n",
                "ns.x = geom\n",
                "ns.define_for(\"x\", gradient=\"∇\", normal=\"n\", jacobians=(\"dV\", \"dS\"))"
            ]
        },
        {
            "attachments": {},
            "cell_type": "markdown",
            "metadata": {},
            "source": [
                "We sample the domain to get a tuple of all node positions in the mesh `X` and compute a bounding box. The bounding box is then use to define the parameter `l_ref` and consequently the value of $G_0$."
            ]
        },
        {
            "cell_type": "code",
            "execution_count": 23,
            "metadata": {},
            "outputs": [],
            "source": [
                "# Get bounding box of input mesh\n",
                "bezier = domain.sample(\"vtk\", 2) \n",
                "X = np.array(bezier.eval([\"x_i\"] @ ns))\n",
                "X_min = np.min(X, axis=1)\n",
                "X_max = np.max(X, axis=1)\n",
                "l_ref = np.max(X_max-X_min)\n",
                "\n",
                "# Parameters in namesapce\n",
                "ns.G0 = 2.0 / l_ref\n",
                "ns.σ = 0.1"
            ]
        },
        {
            "attachments": {},
            "cell_type": "markdown",
            "metadata": {},
            "source": [
                "## Basis\n",
                "A *nutils* basis is a vector-based function that evalautes at any given point $\\mathbf{x}$ on the domain to the array of basis functions."
            ]
        },
        {
            "cell_type": "code",
            "execution_count": 24,
            "metadata": {},
            "outputs": [],
            "source": [
                "ns.basis = domain.basis(\"std\", degree=1)"
            ]
        },
        {
            "attachments": {},
            "cell_type": "markdown",
            "metadata": {},
            "source": [
                "## Problem formulation\n",
                "\n",
                "The problem to be solved is \n",
                "$$\n",
                "\\nabla G(\\mathbf{x}) \\cdot  \\nabla  G(\\mathbf{x}) + \\sigma G(\\mathbf{x}) \\Delta G(\\mathbf{x}) = (1 + 2\\sigma)G^4(\\mathbf{x}) \\quad \\mathbf{x} \\in \\Omega\n",
                "$$\n",
                "for the inverse wall distance $G(\\mathbf{x})$. The weak form of this equation is\n",
                "$$\n",
                "(1-\\sigma) \\int_\\Omega \\nabla G(\\mathbf{x}) \\cdot  \\nabla G(\\mathbf{x}) H(\\mathbf{x}) dV - \\sigma \\int_V G(\\mathbf{x}) \\nabla G(\\mathbf{x}) \\cdot \\nabla H(\\mathbf{x}) dV - (1+2\\sigma) \\int_\\Omega G^4(\\mathbf{x}) H(\\mathbf{x}) dV = 0 \\quad \\forall H\n",
                "$$\n",
                "assuming $\\nabla G(\\mathbf{x}) = 0$ on $\\partial \\Omega\\setminus\\partial\\Omega_{D}$."
            ]
        },
        {
            "cell_type": "code",
            "execution_count": 25,
            "metadata": {},
            "outputs": [],
            "source": [
                "ns.G = function.dotarg(\"lhs\", ns.basis)\n",
                "res = domain.integral(\"(1 - σ) ∇_i(G) ∇_i(G) basis_n dV\" @ ns, degree=2)\n",
                "res -= domain.integral(\"σ G ∇_i(G) ∇_i(basis_n) dV\" @ ns, degree=2)\n",
                "res -= domain.integral(\"(1 + 2 σ) G^4 basis_n dV\" @ ns, degree=2)"
            ]
        },
        {
            "attachments": {},
            "cell_type": "markdown",
            "metadata": {},
            "source": [
                "## Boundary condition at inlet\n",
                "The Dirichlet boundary condition is \n",
                "$$\n",
                "G(\\mathbf{x}) = G_0 \\quad \\mathbf{x} \\in \\partial \\Omega_{D}.\n",
                "$$\n",
                "\n",
                "It is expressed as \n",
                "$$ \n",
                " \\underset{\\mathbf{G}}{\\min} \\int_{\\partial\\Omega} (G - G_0)^2 dS = 0 \\quad \\text{at} \\quad \\partial\\Omega_\\text{D}\n",
                "$$"
            ]
        },
        {
            "cell_type": "code",
            "execution_count": 26,
            "metadata": {},
            "outputs": [
                {
                    "name": "stdout",
                    "output_type": "stream",
                    "text": [
                        "optimize > solve > solving 36 dof system to machine precision using arnoldi solver\n",
                        "optimize > solve > solver returned with residual 3e-15\n",
                        "optimize > constrained 36/6142 dofs\n",
                        "optimize > optimum value 6.94e-18\n",
                        "optimize > solve > solving 6069 dof system to machine precision using arnoldi solver\n",
                        "optimize > solve > solver returned with residual 9e-14\n",
                        "optimize > constrained 6069/6142 dofs\n",
                        "optimize > optimum value 5.33e-15\n"
                    ]
                }
            ],
            "source": [
                "sqr = domain.boundary[\"inlet\"].integral(\"(G - G0)^2 dS\" @ ns, degree=2)\n",
                "inlet = solver.optimize(\"lhs\", sqr, droptol=1e-15)\n",
                "\n",
                "sqr = domain.boundary[\"walls\"].integral(\"(G - G0)^2 dS\" @ ns, degree=2)\n",
                "walls = solver.optimize(\"lhs\", sqr, droptol=1e-15)"
            ]
        },
        {
            "attachments": {},
            "cell_type": "markdown",
            "metadata": {},
            "source": [
                "## Solve the problem\n",
                "The problem is actually solve twice: once to determine the distance to inlet and once to determine the distance to all other walls."
            ]
        },
        {
            "cell_type": "code",
            "execution_count": 27,
            "metadata": {},
            "outputs": [
                {
                    "name": "stdout",
                    "output_type": "stream",
                    "text": [
                        "optimize > solve > solving 6142 dof system to machine precision using arnoldi solver\n",
                        "optimize > solve > solver returned with residual 1e-11\n",
                        "optimize > constrained 6142/6142 dofs\n",
                        "optimize > optimum value 3.41e-13\n",
                        "newton 0% > solve > solving 6106 dof system to tolerance 9e-10 using arnoldi solver\n",
                        "newton 0% > solve > solver returned with residual 2e-20\n",
                        "newton 0% > estimated residual minimum at inf% of update vector\n",
                        "newton 0% > update accepted at relaxation 1.0\n",
                        "newton 12% > solve > solving 6106 dof system to tolerance 3e-10 using arnoldi solver\n",
                        "newton 12% > solve > solver returned with residual 1e-20\n",
                        "newton 12% > estimated residual minimum at 91% of update vector\n",
                        "newton 12% > update accepted at relaxation 1\n",
                        "newton 22% > solve > solving 6106 dof system to tolerance 1e-10 using arnoldi solver\n",
                        "newton 22% > solve > solver returned with residual 4e-21\n",
                        "newton 22% > estimated residual minimum at 94% of update vector\n",
                        "newton 22% > update accepted at relaxation 0.90902\n",
                        "newton 35% > solve > solving 6106 dof system to tolerance 4e-11 using arnoldi solver\n",
                        "newton 35% > solve > solver returned with residual 1e-21\n",
                        "newton 35% > estimated residual minimum at 106% of update vector\n",
                        "newton 35% > update accepted at relaxation 0.85113\n",
                        "newton 53% > solve > solving 6106 dof system to tolerance 8e-12 using arnoldi solver\n",
                        "newton 53% > solve > solver returned with residual 2e-22\n",
                        "newton 53% > estimated residual minimum at 108% of update vector\n",
                        "newton 53% > update accepted at relaxation 0.90574\n",
                        "newton 78% > solve > solving 6106 dof system to tolerance 7e-13 using arnoldi solver\n",
                        "newton 78% > solve > solver returned with residual 3e-23\n",
                        "newton 78% > estimated residual minimum at 102% of update vector\n",
                        "newton 78% > update accepted at relaxation 0.98147\n",
                        "newton 100% > converged in 6 steps to residual 1.4e-11\n",
                        "newton 0% > solve > solving 73 dof system to tolerance 3e-10 using arnoldi solver\n",
                        "newton 0% > solve > solver returned with residual 9e-23\n",
                        "newton 0% > estimated residual minimum at 98% of update vector\n",
                        "newton 0% > update accepted at relaxation 1.0\n",
                        "newton 46% > solve > solving 73 dof system to tolerance 8e-12 using arnoldi solver\n",
                        "newton 46% > solve > solver returned with residual 2e-24\n",
                        "newton 46% > estimated residual minimum at 103% of update vector\n",
                        "newton 46% > update accepted at relaxation 0.97534\n",
                        "newton 92% > solve > solving 73 dof system to tolerance 2e-13 using arnoldi solver\n",
                        "newton 92% > solve > solver returned with residual 5e-26\n",
                        "newton 92% > estimated residual minimum at 100% of update vector\n",
                        "newton 92% > update accepted at relaxation 1\n",
                        "newton 100% > converged in 3 steps to residual 3.1e-15\n"
                    ]
                }
            ],
            "source": [
                "# Initial values set to G_0\n",
                "sqr = domain.integral(\"(G - G0)^2 dV\" @ ns, degree=2)\n",
                "lhs0 = solver.optimize(\"lhs\", sqr, droptol=1e-15)\n",
                "\n",
                "# Solve non-linear equations with Newton solvers\n",
                "lhs_inlet = solver.newton(\"lhs\", res, constrain=inlet, lhs0=lhs0).solve(tol=1E-10)\n",
                "lhs_walls = solver.newton(\"lhs\", res, constrain=walls, lhs0=lhs0).solve(tol=1E-10)"
            ]
        },
        {
            "attachments": {},
            "cell_type": "markdown",
            "metadata": {},
            "source": [
                "## Postprocessing\n",
                "The resulting vector is interpolated using beziers. The actual distance $D$ is then computed from the inverse wall distance $G$ by\n",
                "$$\n",
                "D(\\mathbf{x}) = \\frac{1}{G(\\mathbf{x})} - \\frac{1}{G_0}.\n",
                "$$"
            ]
        },
        {
            "cell_type": "code",
            "execution_count": 28,
            "metadata": {},
            "outputs": [
                {
                    "name": "stdout",
                    "output_type": "stream",
                    "text": [
                        "meshes/gearbox.vtk\n"
                    ]
                }
            ],
            "source": [
                "ns.D = \"1 / G  - 1 / G0\"\n",
                "sample = domain.sample(\"vtk\", None) \n",
                "x, D_i = sample.eval([\"x_i\", \"D\"] @ ns, lhs=lhs_inlet)\n",
                "D_w = sample.eval(\"D\" @ ns, lhs=lhs_walls)\n",
                "export.vtk(mesh_name[:-4], sample.tri, x, D_i=D_i, D_w=D_w)"
            ]
        }
    ],
    "metadata": {
        "kernelspec": {
            "display_name": "nutils",
            "language": "python",
            "name": "python3"
        },
        "language_info": {
            "codemirror_mode": {
                "name": "ipython",
                "version": 3
            },
            "file_extension": ".py",
            "mimetype": "text/x-python",
            "name": "python",
            "nbconvert_exporter": "python",
            "pygments_lexer": "ipython3",
            "version": "3.9.15"
        },
        "vscode": {
            "interpreter": {
                "hash": "74a653f0fdbd48206aa45778ff3f0e7ad466271629bd1644b78f5ff4b8b1e0b8"
            }
        }
    },
    "nbformat": 4,
    "nbformat_minor": 2
}

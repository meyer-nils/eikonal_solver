{
 "cells": [
  {
   "cell_type": "markdown",
   "metadata": {},
   "source": [
    "# Convert Moldflow meshes to GMSH with custom meshio version\n",
    "\n",
    "See https://github.com/meyer-nils/meshio"
   ]
  },
  {
   "cell_type": "code",
   "execution_count": 11,
   "metadata": {},
   "outputs": [],
   "source": [
    "import glob\n",
    "import meshio\n",
    "import numpy as np\n",
    "\n",
    "files = sorted(glob.glob(\"data/*/*.pat\", recursive=\"True\"))\n",
    "\n",
    "for file in files:\n",
    "    # Read files\n",
    "    filltime = file.replace(\".pat\", \"_filltime.xml\")\n",
    "    orientation = file.replace(\".pat\", \"_orientation.xml\")\n",
    "    mesh = meshio.moldflow.read(\n",
    "        file, scale=1000.0, xml_filenames=[filltime, orientation]\n",
    "    )\n",
    "\n",
    "    # Make points 2D \n",
    "    mesh.points[:, 2] = 0.0\n",
    "\n",
    "    # Extend symmetric tensors to 9 elements for MSH format\n",
    "    for label in mesh.cell_data:\n",
    "        for i, cell_data in enumerate(mesh.cell_data[label]):\n",
    "            if cell_data.ndim > 1:\n",
    "                mesh.cell_data[label][i] = np.hstack([cell_data, cell_data[:, 3:6]])\n",
    "\n",
    "    # Export meshes\n",
    "    meshio.vtu.write(file.replace(\".pat\", \".vtu\"), mesh, binary=True)\n",
    "    meshio.gmsh.write(file.replace(\".pat\", \".msh\"), mesh, binary=False)\n"
   ]
  }
 ],
 "metadata": {
  "kernelspec": {
   "display_name": "Python 3 (ipykernel)",
   "language": "python",
   "name": "python3"
  },
  "language_info": {
   "codemirror_mode": {
    "name": "ipython",
    "version": 3
   },
   "file_extension": ".py",
   "mimetype": "text/x-python",
   "name": "python",
   "nbconvert_exporter": "python",
   "pygments_lexer": "ipython3",
   "version": "3.10.0"
  }
 },
 "nbformat": 4,
 "nbformat_minor": 4
}

{
 "cells": [
  {
   "cell_type": "markdown",
   "metadata": {},
   "source": [
    "# Convert Moldflow meshes to GMSH with custom meshio version\n",
    "\n",
    "See https://github.com/meyer-nils/meshio"
   ]
  },
  {
   "cell_type": "code",
   "execution_count": 1,
   "metadata": {},
   "outputs": [],
   "source": [
    "import glob \n",
    "import meshio\n",
    "\n",
    "files = glob.glob(\"data/*/*.pat\", recursive=\"True\")\n",
    "\n",
    "for file in files:\n",
    "    xml_file= file.replace(\".pat\", \"_avg_ori.xml\")\n",
    "    mesh = meshio.moldflow.read(file, scale=1000.0)\n",
    "    mesh.points[:,2] = 0.0\n",
    "    meshio.gmsh.write(file.replace(\".pat\", \".msh\"), mesh, binary=False)\n",
    "    meshio.vtu.write(file.replace(\".pat\", \".vtu\"), mesh, binary=True)"
   ]
  }
 ],
 "metadata": {
  "kernelspec": {
   "display_name": "Python 3 (ipykernel)",
   "language": "python",
   "name": "python3"
  },
  "language_info": {
   "codemirror_mode": {
    "name": "ipython",
    "version": 3
   },
   "file_extension": ".py",
   "mimetype": "text/x-python",
   "name": "python",
   "nbconvert_exporter": "python",
   "pygments_lexer": "ipython3",
   "version": "3.10.0"
  }
 },
 "nbformat": 4,
 "nbformat_minor": 4
}

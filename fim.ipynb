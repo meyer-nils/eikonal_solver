{
 "cells": [
  {
   "cell_type": "code",
   "execution_count": null,
   "metadata": {},
   "outputs": [],
   "source": [
    "import os\n",
    "\n",
    "import matplotlib.pyplot as plt\n",
    "import meshio\n",
    "import numpy as np\n",
    "from fimpy.solver import FIMPY\n",
    "from joblib import Parallel, delayed\n",
    "from numba import njit, prange\n",
    "from numba.typed import List\n",
    "from sklearn.neighbors import BallTree"
   ]
  },
  {
   "cell_type": "code",
   "execution_count": null,
   "metadata": {},
   "outputs": [],
   "source": [
    "try:\n",
    "    import cupy as cp\n",
    "    import cupyx\n",
    "\n",
    "    device = \"gpu\"\n",
    "except ModuleNotFoundError:\n",
    "    device = \"cpu\"\n",
    "\n",
    "DTYPE = np.float32\n",
    "\n",
    "print(f\"Running on {device.upper()}.\")"
   ]
  },
  {
   "cell_type": "markdown",
   "metadata": {},
   "source": [
    "## Load a Mesh \n",
    "This can be any mesh format that meshio can read. However, it needs to contain linear tetrahedral elements only."
   ]
  },
  {
   "cell_type": "code",
   "execution_count": null,
   "metadata": {},
   "outputs": [],
   "source": [
    "# File to read\n",
    "mesh_name = os.path.join(\"control_arm\", \"control_arm.msh\")\n",
    "fill_time = 8.6\n",
    "injection_locs = [[-25.000, 111.916, 18.961]]\n",
    "# mesh_name = os.path.join(\"center_gated_disk\", \"center_gated_disk.msh\")\n",
    "# fill_time = 1.2\n",
    "# injection_locs = [[0.0, 0.0, 3.0]]\n",
    "\n",
    "# Read mesh with meshio\n",
    "mesh = meshio.read(mesh_name)\n",
    "points = mesh.points.astype(DTYPE)\n",
    "elements = mesh.cells[0].data"
   ]
  },
  {
   "cell_type": "markdown",
   "metadata": {},
   "source": [
    "## Boundary conditions \n",
    "`injection_locs` is a list of 3D coordinates on the surface of the domain and prescribes the injection gate locations. It is used to compute the Dirichlet boundary nodes for the eikonal equation that computes distances to the injection points."
   ]
  },
  {
   "cell_type": "code",
   "execution_count": null,
   "metadata": {},
   "outputs": [],
   "source": [
    "# Get inlet nodes\n",
    "inlet_nodes = []\n",
    "for injection_loc in injection_locs:\n",
    "    dist_to_inlet = np.linalg.norm(points - injection_loc, axis=-1)\n",
    "    inlet_nodes.append(np.argmin(dist_to_inlet, axis=0))\n",
    "inlet_nodes = np.array(inlet_nodes)"
   ]
  },
  {
   "cell_type": "markdown",
   "metadata": {},
   "source": [
    "In addition to the injection nodes, all surface nodes are determined to compute distances to the next mold wall."
   ]
  },
  {
   "cell_type": "code",
   "execution_count": null,
   "metadata": {},
   "outputs": [],
   "source": [
    "# Get surface nodes\n",
    "faces = np.vstack(\n",
    "    [\n",
    "        elements[:, [0, 1, 2]],\n",
    "        elements[:, [1, 2, 3]],\n",
    "        elements[:, [0, 2, 3]],\n",
    "        elements[:, [0, 1, 3]],\n",
    "    ]\n",
    ")\n",
    "faces = np.sort(faces, axis=1)\n",
    "_, indices, counts = np.unique(faces, axis=0, return_counts=True, return_index=True)\n",
    "indices = indices[np.argwhere(counts == 1)]\n",
    "surface_nodes = np.unique(faces[indices]).ravel()"
   ]
  },
  {
   "cell_type": "markdown",
   "metadata": {},
   "source": [
    "## Compute the distance measures\n",
    "\n",
    "The first distance is the geodesic distance to the nearest mold wall $D_w$. "
   ]
  },
  {
   "cell_type": "code",
   "execution_count": null,
   "metadata": {},
   "outputs": [],
   "source": [
    "# Set velocity field isotropic to 1\n",
    "f = np.stack([np.eye(3)] * len(elements))\n",
    "\n",
    "# Compute geodesic distance to walls\n",
    "fim = FIMPY.create_fim_solver(points, elements, f, device=device)\n",
    "D_w = fim.comp_fim(surface_nodes, np.zeros_like(surface_nodes))\n",
    "mesh.point_data[\"D_w\"] = D_w"
   ]
  },
  {
   "cell_type": "markdown",
   "metadata": {},
   "source": [
    "The next distance is the geodesic distance to the nearest inlet location $D_i$. "
   ]
  },
  {
   "cell_type": "code",
   "execution_count": null,
   "metadata": {},
   "outputs": [],
   "source": [
    "# Compute geodesic distance to inlet\n",
    "fim = FIMPY.create_fim_solver(points, elements, f, device=device)\n",
    "D_i = fim.comp_fim(inlet_nodes, np.zeros_like(inlet_nodes))\n",
    "mesh.point_data[\"D_i\"] = D_i"
   ]
  },
  {
   "cell_type": "markdown",
   "metadata": {},
   "source": [
    "The next distance is the weightes distance to the nearest inlet location $\\hat{D}_i$. "
   ]
  },
  {
   "cell_type": "code",
   "execution_count": null,
   "metadata": {},
   "outputs": [],
   "source": [
    "# Set velocity field isotropic to wall distance\n",
    "D_w_elements = np.mean(D_w[elements], axis=1)\n",
    "f = np.einsum(\"i,jk->ijk\", D_w_elements, np.eye(3))\n",
    "\n",
    "# Compute weighted distance to inlet\n",
    "fim = FIMPY.create_fim_solver(points, elements, f, device=device)\n",
    "D_i_hat = fim.comp_fim(inlet_nodes, np.zeros_like(inlet_nodes))\n",
    "mesh.point_data[\"D_i_hat\"] = D_i_hat"
   ]
  },
  {
   "cell_type": "markdown",
   "metadata": {},
   "source": [
    "## Nodal volumes\n",
    "The volume attributed to each node is computed for further processing. Therefore, a fourth of each cells volume is contributing to the volume associated with each of its nodes."
   ]
  },
  {
   "cell_type": "code",
   "execution_count": null,
   "metadata": {},
   "outputs": [],
   "source": [
    "cell_coords = points[elements]\n",
    "centers = np.mean(cell_coords, axis=1)\n",
    "\n",
    "# Get node to cell relations\n",
    "n2e = {k: [] for k in range(len(points))}\n",
    "for i, cell in enumerate(elements):\n",
    "    for j, node in enumerate(cell):\n",
    "        n2e[node].append(i)\n",
    "\n",
    "# Get cell volumes\n",
    "a = cell_coords[:, 1, :] - cell_coords[:, 0, :]\n",
    "b = cell_coords[:, 2, :] - cell_coords[:, 0, :]\n",
    "c = cell_coords[:, 3, :] - cell_coords[:, 0, :]\n",
    "omega = np.einsum(\"ij,ij->i\", a, np.cross(b, c), optimize=True)\n",
    "cell_volumes = np.abs(omega) / 6.0\n",
    "\n",
    "# Interpolate volume field to points\n",
    "node_volumes = np.array(\n",
    "    [np.sum(cell_volumes[n2e[node]] / 4.0) for node in range(len(points))]\n",
    ")\n",
    "mesh.point_data[\"Volume\"] = node_volumes"
   ]
  },
  {
   "cell_type": "markdown",
   "metadata": {},
   "source": [
    "## Normalization\n",
    "The weighted distance to the injection gate and nodal volumes are used to construct a normalized fill front in which equal increments of the fill front imply equal increemnts in filled volume. Then, the gradient of the new fill front approximation is computed with a tetragonal shape function and interpolated to nodes. "
   ]
  },
  {
   "cell_type": "code",
   "execution_count": null,
   "metadata": {},
   "outputs": [],
   "source": [
    "if device == \"gpu\":\n",
    "    dist = D_i_hat.get().ravel()\n",
    "else:\n",
    "    dist = D_i_hat.ravel()\n",
    "time = mesh.point_data[\"Fill_time\"].ravel()\n",
    "volume = mesh.point_data[\"Volume\"].ravel()\n",
    "\n",
    "distorder = np.argsort(dist)\n",
    "timeorder = np.argsort(time)\n",
    "distF = np.cumsum(volume[distorder])\n",
    "timeF = np.cumsum(volume[timeorder])\n",
    "plt.plot([0, 1], [0, 1], \"--k\")\n",
    "plt.plot((time[timeorder] / fill_time), (timeF / np.sum(volume)))\n",
    "plt.plot((dist[distorder] / np.max(dist)), (distF / np.sum(volume)))\n",
    "plt.xlabel(\"Relative fill time\")\n",
    "plt.ylabel(\"Filled volume fraction\")\n",
    "plt.legend(\n",
    "    [\"Theoretical (const. fill rate)\", \"Simulation\", \"Distance-based accumulation\"]\n",
    ")\n",
    "plt.show()"
   ]
  },
  {
   "cell_type": "code",
   "execution_count": null,
   "metadata": {},
   "outputs": [],
   "source": [
    "order = np.argsort(dist)\n",
    "ridx = np.argsort(order)\n",
    "F = np.cumsum(node_volumes[order]) / np.sum(node_volumes)\n",
    "fill_front_norm = F[ridx]\n",
    "mesh.point_data[\"Normalized_fill_front\"] = fill_front_norm"
   ]
  },
  {
   "cell_type": "code",
   "execution_count": null,
   "metadata": {},
   "outputs": [],
   "source": [
    "# Compute gradient\n",
    "B = np.array([[-1.0, 1.0, 0.0, 0.0], [-1.0, 0.0, 1.0, 0.0], [-1.0, 0.0, 0.0, 1.0]])\n",
    "J = B @ points[elements, :]\n",
    "edirs = np.einsum(\"...ij, ...j\", np.linalg.inv(J) @ B, fill_front_norm[elements])\n",
    "ndirs = np.array([np.mean(edirs[n2e[node]], axis=0) for node in range(len(points))])\n",
    "mesh.point_data[\"Fill_gradient\"] = ndirs / np.linalg.norm(ndirs, axis=1)[:, None]"
   ]
  },
  {
   "cell_type": "markdown",
   "metadata": {},
   "source": [
    "## Structure tensor\n",
    "The structure tensor is a second order tensor measuring the directionality of the material distribution in the domain."
   ]
  },
  {
   "cell_type": "code",
   "execution_count": null,
   "metadata": {},
   "outputs": [],
   "source": [
    "@njit(fastmath=True)\n",
    "def compute_structure_tensor(points, centers, volumes, indices, dist):\n",
    "    num_points = len(points)\n",
    "    result = np.zeros((num_points, 3, 3))\n",
    "    for i in prange(num_points):\n",
    "        idx = indices[i]\n",
    "        diffs = centers[idx] - points[i]\n",
    "        vols = volumes[idx]\n",
    "        dirs = diffs.T / dist[i]\n",
    "        result[i, :, :] = np.dot(vols * dirs, dirs.T) / np.sum(vols)\n",
    "    return result\n",
    "\n",
    "\n",
    "def tensor_sweep(points, centers, volumes, radius, n_jobs=10):\n",
    "    tree = BallTree(centers)\n",
    "\n",
    "    def process_chunk(chunk):\n",
    "        n, d = tree.query_radius(chunk, r=radius, return_distance=True)\n",
    "        return compute_structure_tensor(chunk, centers, volumes, List(n), List(d))\n",
    "\n",
    "    chunks = np.array_split(points, 10000)\n",
    "    results = Parallel(n_jobs=n_jobs)(delayed(process_chunk)(chunk) for chunk in chunks)\n",
    "    return np.concatenate(results)"
   ]
  },
  {
   "cell_type": "code",
   "execution_count": null,
   "metadata": {},
   "outputs": [],
   "source": [
    "def gpu_compute_structure_tensor(points, centers, volumes, indices, dist):\n",
    "    num_points = len(points)\n",
    "    points = cp.asarray(points)\n",
    "    centers = cp.asarray(centers)\n",
    "    volumes = cp.asarray(volumes)\n",
    "    dist = [cp.asarray(d, dtype=DTYPE) for d in dist]\n",
    "    result = cp.zeros((num_points, 3, 3), dtype=DTYPE)\n",
    "    for i in range(num_points):\n",
    "        idx = indices[i]\n",
    "        diffs = centers[idx] - points[i]\n",
    "        vols = volumes[idx]\n",
    "        dirs = diffs.T / dist[i]\n",
    "        result[i, :, :] = cp.dot(vols * dirs, dirs.T) / cp.sum(vols)\n",
    "    return result\n",
    "\n",
    "\n",
    "def gpu_tensor_sweep(points, centers, volumes, radius, n_jobs=10):\n",
    "    tree = BallTree(centers)\n",
    "\n",
    "    def process_chunk(chunk):\n",
    "        n, d = tree.query_radius(chunk, r=radius, return_distance=True)\n",
    "        return gpu_compute_structure_tensor(chunk, centers, volumes, n, d)\n",
    "\n",
    "    chunks = np.array_split(points, 10000)\n",
    "    results = Parallel(n_jobs=n_jobs)(delayed(process_chunk)(chunk) for chunk in chunks)\n",
    "    return cp.concatenate(results)"
   ]
  },
  {
   "cell_type": "code",
   "execution_count": null,
   "metadata": {},
   "outputs": [],
   "source": [
    "# Compute structure tensor\n",
    "bounding_box = np.max(points, axis=0) - np.min(points, axis=0)\n",
    "radius = min(0.25 * np.max(bounding_box), np.min(bounding_box))\n",
    "if device == \"gpu\":\n",
    "    tensors = gpu_tensor_sweep(points, centers, cell_volumes, radius)\n",
    "else:\n",
    "    tensors = tensor_sweep(points, centers, cell_volumes, radius)\n",
    "mesh.point_data[\"Structure_tensor\"] = tensors.reshape((-1, 9))[:, [0, 4, 8, 1, 5, 2]]"
   ]
  },
  {
   "cell_type": "markdown",
   "metadata": {},
   "source": [
    "## Export results"
   ]
  },
  {
   "cell_type": "code",
   "execution_count": null,
   "metadata": {},
   "outputs": [],
   "source": [
    "if \"gmsh:geometrical\" in mesh.cell_data.keys():\n",
    "    mesh.cell_data.pop(\"gmsh:geometrical\")\n",
    "if \"gmsh:dim_tags\" in mesh.point_data.keys():\n",
    "    mesh.point_data.pop(\"gmsh:dim_tags\")\n",
    "meshio.write(\"control_arm_hole.vtu\", mesh)"
   ]
  }
 ],
 "metadata": {
  "kernelspec": {
   "display_name": "nutils",
   "language": "python",
   "name": "python3"
  },
  "language_info": {
   "codemirror_mode": {
    "name": "ipython",
    "version": 3
   },
   "file_extension": ".py",
   "mimetype": "text/x-python",
   "name": "python",
   "nbconvert_exporter": "python",
   "pygments_lexer": "ipython3",
   "version": "3.11.7"
  },
  "orig_nbformat": 4
 },
 "nbformat": 4,
 "nbformat_minor": 2
}

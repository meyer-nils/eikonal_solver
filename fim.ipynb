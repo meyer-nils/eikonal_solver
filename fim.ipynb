{
 "cells": [
  {
   "cell_type": "code",
   "execution_count": 1,
   "metadata": {},
   "outputs": [],
   "source": [
    "import os\n",
    "\n",
    "import meshio\n",
    "import numpy as np\n",
    "from fimpy.solver import FIMPY\n",
    "\n",
    "from sklearn.neighbors import BallTree\n",
    "from numba import njit, prange\n",
    "from numba.typed import List\n",
    "\n",
    "import matplotlib.pyplot as plt"
   ]
  },
  {
   "cell_type": "code",
   "execution_count": 2,
   "metadata": {},
   "outputs": [],
   "source": [
    "try:\n",
    "    import cupy\n",
    "    device = \"gpu\"\n",
    "except ModuleNotFoundError:\n",
    "    device = \"cpu\""
   ]
  },
  {
   "cell_type": "markdown",
   "metadata": {},
   "source": [
    "## Load a Mesh \n",
    "This can be any mesh format that meshio can read. However, it needs to contain linear tetrahedral elements only."
   ]
  },
  {
   "cell_type": "code",
   "execution_count": 3,
   "metadata": {},
   "outputs": [
    {
     "name": "stdout",
     "output_type": "stream",
     "text": [
      "\n"
     ]
    }
   ],
   "source": [
    "# File to read\n",
    "mesh_name = os.path.join(\"control_arm\", \"control_arm.msh\")\n",
    "fill_time = 8.6\n",
    "injection_locs = [[-25.000, 111.916, 18.961]]\n",
    "# mesh_name = os.path.join(\"center_gated_disk\", \"center_gated_disk.msh\")\n",
    "# fill_time = 1.2\n",
    "# injection_locs = [[0.0, 0.0, 3.0]]\n",
    "\n",
    "# Read mesh with meshio\n",
    "mesh = meshio.read(mesh_name)\n",
    "points = mesh.points\n",
    "elements = mesh.cells[0].data"
   ]
  },
  {
   "cell_type": "markdown",
   "metadata": {},
   "source": [
    "## Boundary conditions \n",
    "`injection_locs` is a list of 3D coordinates on the surface of the domain and prescribes the injection gate locations. It is used to compute the Dirichlet boundary nodes for the eikonal equation that computes distances to the injection points."
   ]
  },
  {
   "cell_type": "code",
   "execution_count": 4,
   "metadata": {},
   "outputs": [],
   "source": [
    "# Get inlet nodes\n",
    "inlet_nodes = []\n",
    "for injection_loc in injection_locs:\n",
    "    dist_to_inlet = np.linalg.norm(points - injection_loc, axis=-1)\n",
    "    inlet_nodes.append(np.argmin(dist_to_inlet, axis=0))\n",
    "inlet_nodes = np.array(inlet_nodes)"
   ]
  },
  {
   "cell_type": "markdown",
   "metadata": {},
   "source": [
    "In addition to the injection nodes, all surface nodes are determined to compute distances to the next mold wall."
   ]
  },
  {
   "cell_type": "code",
   "execution_count": 5,
   "metadata": {},
   "outputs": [],
   "source": [
    "# Get surface nodes\n",
    "faces = np.vstack(\n",
    "    [\n",
    "        elements[:, [0, 1, 2]],\n",
    "        elements[:, [1, 2, 3]],\n",
    "        elements[:, [0, 2, 3]],\n",
    "        elements[:, [0, 1, 3]],\n",
    "    ]\n",
    ")\n",
    "faces = np.sort(faces, axis=1)\n",
    "_, indices, counts = np.unique(faces, axis=0, return_counts=True, return_index=True)\n",
    "indices = indices[np.argwhere(counts == 1)]\n",
    "surface_nodes = np.unique(faces[indices]).ravel()"
   ]
  },
  {
   "cell_type": "markdown",
   "metadata": {},
   "source": [
    "## Compute the distance measures\n",
    "\n",
    "The first distance is the geodesic distance to the nearest mold wall $D_w$. "
   ]
  },
  {
   "cell_type": "code",
   "execution_count": 6,
   "metadata": {},
   "outputs": [],
   "source": [
    "# Set velocity field isotropicallly to 1\n",
    "f = np.stack([np.eye(3)] * len(elements))\n",
    "\n",
    "# Compute geodesic distance to walls\n",
    "fim = FIMPY.create_fim_solver(points, elements, f, device=device)\n",
    "D_w = fim.comp_fim(surface_nodes, np.zeros_like(surface_nodes))\n",
    "mesh.point_data[\"D_w\"] = D_w\n"
   ]
  },
  {
   "cell_type": "markdown",
   "metadata": {},
   "source": [
    "The next distance is the geodesic distance to the nearest inlet location $D_i$. "
   ]
  },
  {
   "cell_type": "code",
   "execution_count": 7,
   "metadata": {},
   "outputs": [],
   "source": [
    "# Compute geodesic distance to inlet\n",
    "fim = FIMPY.create_fim_solver(points, elements, f, device=device)\n",
    "D_i = fim.comp_fim(inlet_nodes, np.zeros_like(inlet_nodes))\n",
    "mesh.point_data[\"D_i\"] = D_i"
   ]
  },
  {
   "cell_type": "markdown",
   "metadata": {},
   "source": [
    "The next distance is the weightes distance to the nearest inlet location $\\hat{D}_i$. "
   ]
  },
  {
   "cell_type": "code",
   "execution_count": 8,
   "metadata": {},
   "outputs": [
    {
     "ename": "KeyboardInterrupt",
     "evalue": "",
     "output_type": "error",
     "traceback": [
      "\u001b[1;31m---------------------------------------------------------------------------\u001b[0m",
      "\u001b[1;31mKeyboardInterrupt\u001b[0m                         Traceback (most recent call last)",
      "Cell \u001b[1;32mIn[8], line 6\u001b[0m\n\u001b[0;32m      3\u001b[0m f \u001b[38;5;241m=\u001b[39m np\u001b[38;5;241m.\u001b[39meinsum(\u001b[38;5;124m\"\u001b[39m\u001b[38;5;124mi,jk->ijk\u001b[39m\u001b[38;5;124m\"\u001b[39m, D_w_elements, np\u001b[38;5;241m.\u001b[39meye(\u001b[38;5;241m3\u001b[39m))\n\u001b[0;32m      5\u001b[0m \u001b[38;5;66;03m# Compute weighted distance to inlet\u001b[39;00m\n\u001b[1;32m----> 6\u001b[0m fim \u001b[38;5;241m=\u001b[39m \u001b[43mFIMPY\u001b[49m\u001b[38;5;241;43m.\u001b[39;49m\u001b[43mcreate_fim_solver\u001b[49m\u001b[43m(\u001b[49m\u001b[43mpoints\u001b[49m\u001b[43m,\u001b[49m\u001b[43m \u001b[49m\u001b[43melements\u001b[49m\u001b[43m,\u001b[49m\u001b[43m \u001b[49m\u001b[43mf\u001b[49m\u001b[43m,\u001b[49m\u001b[43m \u001b[49m\u001b[43mdevice\u001b[49m\u001b[38;5;241;43m=\u001b[39;49m\u001b[43mdevice\u001b[49m\u001b[43m)\u001b[49m\n\u001b[0;32m      7\u001b[0m D_i_hat \u001b[38;5;241m=\u001b[39m fim\u001b[38;5;241m.\u001b[39mcomp_fim(inlet_nodes, np\u001b[38;5;241m.\u001b[39mzeros_like(inlet_nodes))\n\u001b[0;32m      8\u001b[0m mesh\u001b[38;5;241m.\u001b[39mpoint_data[\u001b[38;5;124m\"\u001b[39m\u001b[38;5;124mD_i_hat\u001b[39m\u001b[38;5;124m\"\u001b[39m] \u001b[38;5;241m=\u001b[39m D_i_hat\n",
      "File \u001b[1;32mc:\\Users\\meyernil\\.conda\\envs\\fim-python\\Lib\\site-packages\\fimpy\\solver.py:61\u001b[0m, in \u001b[0;36mFIMPY.create_fim_solver\u001b[1;34m(points, elems, metrics, precision, device, use_active_list)\u001b[0m\n\u001b[0;32m     58\u001b[0m     device\u001b[38;5;241m=\u001b[39m\u001b[38;5;124m'\u001b[39m\u001b[38;5;124mcpu\u001b[39m\u001b[38;5;124m'\u001b[39m\n\u001b[0;32m     60\u001b[0m \u001b[38;5;28;01mif\u001b[39;00m device \u001b[38;5;241m==\u001b[39m \u001b[38;5;124m'\u001b[39m\u001b[38;5;124mcpu\u001b[39m\u001b[38;5;124m'\u001b[39m:\n\u001b[1;32m---> 61\u001b[0m     \u001b[38;5;28;01mreturn\u001b[39;00m (\u001b[43mFIMNPAL\u001b[49m\u001b[43m(\u001b[49m\u001b[43mpoints\u001b[49m\u001b[43m,\u001b[49m\u001b[43m \u001b[49m\u001b[43melems\u001b[49m\u001b[43m,\u001b[49m\u001b[43m \u001b[49m\u001b[43mmetrics\u001b[49m\u001b[43m,\u001b[49m\u001b[43m \u001b[49m\u001b[43mprecision\u001b[49m\u001b[43m)\u001b[49m \u001b[38;5;28;01mif\u001b[39;00m use_active_list \u001b[38;5;28;01melse\u001b[39;00m FIMNP(points, elems, metrics, precision))\n\u001b[0;32m     62\u001b[0m \u001b[38;5;28;01melif\u001b[39;00m device \u001b[38;5;241m==\u001b[39m \u001b[38;5;124m'\u001b[39m\u001b[38;5;124mgpu\u001b[39m\u001b[38;5;124m'\u001b[39m:\n\u001b[0;32m     63\u001b[0m     \u001b[38;5;28;01mreturn\u001b[39;00m (FIMCupyAL(points, elems, metrics, precision) \u001b[38;5;28;01mif\u001b[39;00m use_active_list \u001b[38;5;28;01melse\u001b[39;00m FIMCupy(points, elems, metrics, precision))\n",
      "File \u001b[1;32mc:\\Users\\meyernil\\.conda\\envs\\fim-python\\Lib\\site-packages\\fimpy\\fim_np.py:73\u001b[0m, in \u001b[0;36mFIMNPAL.__init__\u001b[1;34m(self, points, elems, metrics, precision)\u001b[0m\n\u001b[0;32m     72\u001b[0m \u001b[38;5;28;01mdef\u001b[39;00m \u001b[38;5;21m__init__\u001b[39m(\u001b[38;5;28mself\u001b[39m, points, elems, metrics\u001b[38;5;241m=\u001b[39m\u001b[38;5;28;01mNone\u001b[39;00m, precision\u001b[38;5;241m=\u001b[39mnp\u001b[38;5;241m.\u001b[39mfloat32):\n\u001b[1;32m---> 73\u001b[0m   \u001b[38;5;28;43msuper\u001b[39;49m\u001b[43m(\u001b[49m\u001b[43mFIMNPAL\u001b[49m\u001b[43m,\u001b[49m\u001b[43m \u001b[49m\u001b[38;5;28;43mself\u001b[39;49m\u001b[43m)\u001b[49m\u001b[38;5;241;43m.\u001b[39;49m\u001b[38;5;21;43m__init__\u001b[39;49m\u001b[43m(\u001b[49m\u001b[43mpoints\u001b[49m\u001b[43m,\u001b[49m\u001b[43m \u001b[49m\u001b[43melems\u001b[49m\u001b[43m,\u001b[49m\u001b[43m \u001b[49m\u001b[43mmetrics\u001b[49m\u001b[43m,\u001b[49m\u001b[43m \u001b[49m\u001b[43mprecision\u001b[49m\u001b[43m,\u001b[49m\u001b[43m \u001b[49m\u001b[43mcomp_connectivities\u001b[49m\u001b[38;5;241;43m=\u001b[39;49m\u001b[38;5;28;43;01mTrue\u001b[39;49;00m\u001b[43m)\u001b[49m\n",
      "File \u001b[1;32mc:\\Users\\meyernil\\.conda\\envs\\fim-python\\Lib\\site-packages\\fimpy\\fim_base.py:70\u001b[0m, in \u001b[0;36mFIMBase.__init__\u001b[1;34m(self, points, elems, metrics, precision, comp_connectivities)\u001b[0m\n\u001b[0;32m     68\u001b[0m \u001b[38;5;28mself\u001b[39m\u001b[38;5;241m.\u001b[39melem_dims \u001b[38;5;241m=\u001b[39m \u001b[38;5;28mself\u001b[39m\u001b[38;5;241m.\u001b[39melems\u001b[38;5;241m.\u001b[39mshape[\u001b[38;5;241m-\u001b[39m\u001b[38;5;241m1\u001b[39m]\n\u001b[0;32m     69\u001b[0m \u001b[38;5;28;01mif\u001b[39;00m comp_connectivities:\n\u001b[1;32m---> 70\u001b[0m     \u001b[38;5;28mself\u001b[39m\u001b[38;5;241m.\u001b[39mnh_map \u001b[38;5;241m=\u001b[39m \u001b[38;5;28;43mself\u001b[39;49m\u001b[38;5;241;43m.\u001b[39;49m\u001b[43mcompute_neighborhood_map\u001b[49m\u001b[43m(\u001b[49m\u001b[43m)\u001b[49m\n\u001b[0;32m     71\u001b[0m     \u001b[38;5;28mself\u001b[39m\u001b[38;5;241m.\u001b[39mpoint_elem_map \u001b[38;5;241m=\u001b[39m \u001b[38;5;28mself\u001b[39m\u001b[38;5;241m.\u001b[39mcompute_point_elem_map()\n\u001b[0;32m     73\u001b[0m \u001b[38;5;28mself\u001b[39m\u001b[38;5;241m.\u001b[39mprecision \u001b[38;5;241m=\u001b[39m precision\n",
      "File \u001b[1;32mc:\\Users\\meyernil\\.conda\\envs\\fim-python\\Lib\\site-packages\\fimpy\\fim_base.py:144\u001b[0m, in \u001b[0;36mFIMBase.compute_neighborhood_map\u001b[1;34m(self)\u001b[0m\n\u001b[0;32m    141\u001b[0m max_point_elem_ratio \u001b[38;5;241m=\u001b[39m np\u001b[38;5;241m.\u001b[39mmax(np\u001b[38;5;241m.\u001b[39munique(\u001b[38;5;28mself\u001b[39m\u001b[38;5;241m.\u001b[39melems, return_counts\u001b[38;5;241m=\u001b[39m\u001b[38;5;28;01mTrue\u001b[39;00m)[\u001b[38;5;241m1\u001b[39m])\n\u001b[0;32m    142\u001b[0m nh_map \u001b[38;5;241m=\u001b[39m np\u001b[38;5;241m.\u001b[39mzeros(shape\u001b[38;5;241m=\u001b[39m[\u001b[38;5;28mself\u001b[39m\u001b[38;5;241m.\u001b[39mnr_points, max_point_elem_ratio \u001b[38;5;241m*\u001b[39m \u001b[38;5;28mself\u001b[39m\u001b[38;5;241m.\u001b[39melem_dims], dtype\u001b[38;5;241m=\u001b[39mnp\u001b[38;5;241m.\u001b[39mint32)\n\u001b[1;32m--> 144\u001b[0m nh_map \u001b[38;5;241m=\u001b[39m np\u001b[38;5;241m.\u001b[39marray(\u001b[43mcompute_neighborhood_map_c\u001b[49m\u001b[43m(\u001b[49m\u001b[38;5;28;43mself\u001b[39;49m\u001b[38;5;241;43m.\u001b[39;49m\u001b[43melems\u001b[49m\u001b[43m,\u001b[49m\u001b[43m \u001b[49m\u001b[43mnh_map\u001b[49m\u001b[43m)\u001b[49m)\n\u001b[0;32m    146\u001b[0m nh_map \u001b[38;5;241m=\u001b[39m np\u001b[38;5;241m.\u001b[39msort(nh_map, axis\u001b[38;5;241m=\u001b[39m\u001b[38;5;241m-\u001b[39m\u001b[38;5;241m1\u001b[39m)\n\u001b[0;32m    148\u001b[0m \u001b[38;5;66;03m# There may be cases where the ratio was an overestimate\u001b[39;00m\n",
      "File \u001b[1;32mfimpy\\\\fim_cutils\\\\fim_cutils.pyx:86\u001b[0m, in \u001b[0;36mfimpy.fim_cutils.fim_cutils.compute_neighborhood_map_c\u001b[1;34m()\u001b[0m\n",
      "File \u001b[1;32mc:\\Users\\meyernil\\.conda\\envs\\fim-python\\Lib\\site-packages\\numpy\\lib\\arraysetops.py:133\u001b[0m, in \u001b[0;36m_unique_dispatcher\u001b[1;34m(ar, return_index, return_inverse, return_counts, axis, equal_nan)\u001b[0m\n\u001b[0;32m    129\u001b[0m     \u001b[38;5;28;01melse\u001b[39;00m:\n\u001b[0;32m    130\u001b[0m         \u001b[38;5;28;01mreturn\u001b[39;00m x\n\u001b[1;32m--> 133\u001b[0m \u001b[38;5;28;01mdef\u001b[39;00m \u001b[38;5;21m_unique_dispatcher\u001b[39m(ar, return_index\u001b[38;5;241m=\u001b[39m\u001b[38;5;28;01mNone\u001b[39;00m, return_inverse\u001b[38;5;241m=\u001b[39m\u001b[38;5;28;01mNone\u001b[39;00m,\n\u001b[0;32m    134\u001b[0m                        return_counts\u001b[38;5;241m=\u001b[39m\u001b[38;5;28;01mNone\u001b[39;00m, axis\u001b[38;5;241m=\u001b[39m\u001b[38;5;28;01mNone\u001b[39;00m, \u001b[38;5;241m*\u001b[39m, equal_nan\u001b[38;5;241m=\u001b[39m\u001b[38;5;28;01mNone\u001b[39;00m):\n\u001b[0;32m    135\u001b[0m     \u001b[38;5;28;01mreturn\u001b[39;00m (ar,)\n\u001b[0;32m    138\u001b[0m \u001b[38;5;129m@array_function_dispatch\u001b[39m(_unique_dispatcher)\n\u001b[0;32m    139\u001b[0m \u001b[38;5;28;01mdef\u001b[39;00m \u001b[38;5;21munique\u001b[39m(ar, return_index\u001b[38;5;241m=\u001b[39m\u001b[38;5;28;01mFalse\u001b[39;00m, return_inverse\u001b[38;5;241m=\u001b[39m\u001b[38;5;28;01mFalse\u001b[39;00m,\n\u001b[0;32m    140\u001b[0m            return_counts\u001b[38;5;241m=\u001b[39m\u001b[38;5;28;01mFalse\u001b[39;00m, axis\u001b[38;5;241m=\u001b[39m\u001b[38;5;28;01mNone\u001b[39;00m, \u001b[38;5;241m*\u001b[39m, equal_nan\u001b[38;5;241m=\u001b[39m\u001b[38;5;28;01mTrue\u001b[39;00m):\n",
      "\u001b[1;31mKeyboardInterrupt\u001b[0m: "
     ]
    }
   ],
   "source": [
    "# Set velocity field isotropically to wall distance\n",
    "D_w_elements = np.mean(D_w[elements], axis=1)\n",
    "f = np.einsum(\"i,jk->ijk\", D_w_elements, np.eye(3))\n",
    "\n",
    "# Compute weighted distance to inlet\n",
    "fim = FIMPY.create_fim_solver(points, elements, f, device=device)\n",
    "D_i_hat = fim.comp_fim(inlet_nodes, np.zeros_like(inlet_nodes))\n",
    "mesh.point_data[\"D_i_hat\"] = D_i_hat\n"
   ]
  },
  {
   "cell_type": "markdown",
   "metadata": {},
   "source": [
    "## Nodal volumes\n",
    "The volume attributed to each node is computed for further processing. Therefore, a fourth of each cells volume is contributing to the volume associated with each of its nodes."
   ]
  },
  {
   "cell_type": "code",
   "execution_count": null,
   "metadata": {},
   "outputs": [],
   "source": [
    "cell_coords = points[elements]\n",
    "centers = np.mean(cell_coords, axis=1)\n",
    "\n",
    "# Get node to cell relations\n",
    "n2e = {k: [] for k in range(len(points))}\n",
    "for i, cell in enumerate(elements):\n",
    "    for j, node in enumerate(cell):\n",
    "        n2e[node].append(i)\n",
    "\n",
    "# Get cell volumes\n",
    "a = cell_coords[:, 1, :] - cell_coords[:, 0, :]\n",
    "b = cell_coords[:, 2, :] - cell_coords[:, 0, :]\n",
    "c = cell_coords[:, 3, :] - cell_coords[:, 0, :]\n",
    "omega = np.einsum(\"ij,ij->i\", a, np.cross(b, c), optimize=True)\n",
    "cell_volumes = np.abs(omega) / 6.0\n",
    "\n",
    "# Interpolate volume field to points\n",
    "node_volumes = np.array(\n",
    "    [np.sum(cell_volumes[n2e[node]] / 4.0) for node in range(len(points))]\n",
    ")\n",
    "mesh.point_data[\"Volume\"] = node_volumes"
   ]
  },
  {
   "cell_type": "markdown",
   "metadata": {},
   "source": [
    "## Normalization\n",
    "The weighted distance to the injection gate and nodal volumes are used to construct a normalized fill front in which equal increments of the fill front imply equal increemnts in filled volume. Then, the gradient of the new fill front approximation is computed with a tetragonal shape function and interpolated to nodes. "
   ]
  },
  {
   "cell_type": "code",
   "execution_count": null,
   "metadata": {},
   "outputs": [
    {
     "data": {
      "image/png": "[encoded data removed]",
      "text/plain": [
       "<Figure size 640x480 with 1 Axes>"
      ]
     },
     "metadata": {},
     "output_type": "display_data"
    }
   ],
   "source": [
    "dist = D_i_hat.get().ravel()\n",
    "time = mesh.point_data[\"Fill_time\"].ravel()\n",
    "volume  = mesh.point_data[\"Volume\"].ravel()\n",
    "\n",
    "distorder = np.argsort(dist)\n",
    "timeorder = np.argsort(time)\n",
    "distF = np.cumsum(volume[distorder])\n",
    "timeF = np.cumsum(volume[timeorder])\n",
    "plt.plot([0, 1],[0, 1], \"--k\")\n",
    "plt.plot((time[timeorder]/fill_time), (timeF/np.sum(volume)))\n",
    "plt.plot((dist[distorder]/np.max(dist)), (distF/ np.sum(volume)))\n",
    "plt.xlabel(\"Relative fill time\")\n",
    "plt.ylabel(\"Filled volume fraction\")\n",
    "plt.legend([\"Theoretical (const. fill rate)\", \"Simulation\", \"Distance-based accumulation\"])\n",
    "plt.show()"
   ]
  },
  {
   "cell_type": "code",
   "execution_count": null,
   "metadata": {},
   "outputs": [],
   "source": [
    "order = np.argsort(dist)\n",
    "ridx = np.argsort(order)\n",
    "F = np.cumsum(node_volumes[order]) / np.sum(node_volumes)\n",
    "fill_front_norm = F[ridx]\n",
    "mesh.point_data[\"Normalized_fill_front\"] = fill_front_norm"
   ]
  },
  {
   "cell_type": "code",
   "execution_count": null,
   "metadata": {},
   "outputs": [],
   "source": [
    "# Compute gradient\n",
    "B = np.array([[-1.0, 1.0, 0.0, 0.0], [-1.0, 0.0, 1.0, 0.0], [-1.0, 0.0, 0.0, 1.0]])\n",
    "J = B @ points[elements, :]\n",
    "edirs = np.einsum(\"...ij, ...j\", np.linalg.inv(J) @ B, fill_front_norm[elements])\n",
    "ndirs = np.array([np.mean(edirs[n2e[node]], axis=0) for node in range(len(points))])\n",
    "mesh.point_data[\"Fill_gradient\"] = ndirs / np.linalg.norm(ndirs, axis=1)[:,None]"
   ]
  },
  {
   "cell_type": "markdown",
   "metadata": {},
   "source": [
    "## Structure tensor\n",
    "The structure tensor is a second order tensor measuring the directionality of the material distribution in the domain."
   ]
  },
  {
   "cell_type": "code",
   "execution_count": null,
   "metadata": {},
   "outputs": [],
   "source": [
    "@njit(parallel=True, fastmath=True)\n",
    "def compute_structure_tensor(points, centers, volumes, indices, dist):\n",
    "    num_points = len(points)\n",
    "    result = np.zeros((num_points, 3, 3))\n",
    "    for i in prange(num_points):\n",
    "        idx = indices[i]\n",
    "        diffs = centers[idx] - points[i]\n",
    "        vols = volumes[idx]\n",
    "        dirs = diffs.T / dist[i]\n",
    "        result[i, :, :] = np.dot(vols * dirs, dirs.T) / np.sum(vols)\n",
    "    return result\n",
    "\n",
    "def tensor_sweep(points, centers, volumes, radius):\n",
    "    tree = BallTree(centers)\n",
    "    results = []\n",
    "    chunks = np.array_split(points, 100)\n",
    "    for chunk in chunks:\n",
    "        n, d = tree.query_radius(chunk, r=radius, return_distance=True)\n",
    "        S = compute_structure_tensor(chunk, centers, volumes, List(n), List(d))\n",
    "        results.append(S)\n",
    "    return np.concatenate(results)\n"
   ]
  },
  {
   "cell_type": "code",
   "execution_count": null,
   "metadata": {},
   "outputs": [
    {
     "name": "stderr",
     "output_type": "stream",
     "text": [
      "C:\\Users\\meyernil\\AppData\\Local\\Temp\\ipykernel_27160\\698529412.py:6: NumbaTypeSafetyWarning: \u001b[1m\u001b[1m\u001b[1munsafe cast from uint64 to int64. Precision may be lost.\u001b[0m\u001b[0m\u001b[0m\n",
      "  idx = indices[i]\n"
     ]
    },
    {
     "ename": "KeyboardInterrupt",
     "evalue": "",
     "output_type": "error",
     "traceback": [
      "\u001b[1;31m---------------------------------------------------------------------------\u001b[0m",
      "\u001b[1;31mKeyboardInterrupt\u001b[0m                         Traceback (most recent call last)",
      "Cell \u001b[1;32mIn[14], line 4\u001b[0m\n\u001b[0;32m      2\u001b[0m bounding_box \u001b[38;5;241m=\u001b[39m np\u001b[38;5;241m.\u001b[39mmax(points, axis\u001b[38;5;241m=\u001b[39m\u001b[38;5;241m0\u001b[39m) \u001b[38;5;241m-\u001b[39m np\u001b[38;5;241m.\u001b[39mmin(points, axis\u001b[38;5;241m=\u001b[39m\u001b[38;5;241m0\u001b[39m)\n\u001b[0;32m      3\u001b[0m radius \u001b[38;5;241m=\u001b[39m \u001b[38;5;28mmin\u001b[39m(\u001b[38;5;241m0.25\u001b[39m \u001b[38;5;241m*\u001b[39m np\u001b[38;5;241m.\u001b[39mmax(bounding_box), np\u001b[38;5;241m.\u001b[39mmin(bounding_box))\n\u001b[1;32m----> 4\u001b[0m stensors \u001b[38;5;241m=\u001b[39m \u001b[43mtensor_sweep\u001b[49m\u001b[43m(\u001b[49m\u001b[43mpoints\u001b[49m\u001b[43m,\u001b[49m\u001b[43m \u001b[49m\u001b[43mcenters\u001b[49m\u001b[43m,\u001b[49m\u001b[43m \u001b[49m\u001b[43mcell_volumes\u001b[49m\u001b[43m,\u001b[49m\u001b[43m \u001b[49m\u001b[43mradius\u001b[49m\u001b[43m)\u001b[49m\n\u001b[0;32m      5\u001b[0m mesh\u001b[38;5;241m.\u001b[39mpoint_data[\u001b[38;5;124m\"\u001b[39m\u001b[38;5;124mStructure_tensor\u001b[39m\u001b[38;5;124m\"\u001b[39m] \u001b[38;5;241m=\u001b[39m stensors\u001b[38;5;241m.\u001b[39mreshape((\u001b[38;5;241m-\u001b[39m\u001b[38;5;241m1\u001b[39m, \u001b[38;5;241m9\u001b[39m))[:, [\u001b[38;5;241m0\u001b[39m, \u001b[38;5;241m4\u001b[39m, \u001b[38;5;241m8\u001b[39m, \u001b[38;5;241m1\u001b[39m, \u001b[38;5;241m5\u001b[39m, \u001b[38;5;241m2\u001b[39m]]\n",
      "Cell \u001b[1;32mIn[13], line 19\u001b[0m, in \u001b[0;36mtensor_sweep\u001b[1;34m(points, centers, volumes, radius)\u001b[0m\n\u001b[0;32m     17\u001b[0m \u001b[38;5;28;01mfor\u001b[39;00m chunk \u001b[38;5;129;01min\u001b[39;00m chunks:\n\u001b[0;32m     18\u001b[0m     n, d \u001b[38;5;241m=\u001b[39m tree\u001b[38;5;241m.\u001b[39mquery_radius(chunk, r\u001b[38;5;241m=\u001b[39mradius, return_distance\u001b[38;5;241m=\u001b[39m\u001b[38;5;28;01mTrue\u001b[39;00m)\n\u001b[1;32m---> 19\u001b[0m     S \u001b[38;5;241m=\u001b[39m \u001b[43mcompute_structure_tensor\u001b[49m\u001b[43m(\u001b[49m\u001b[43mchunk\u001b[49m\u001b[43m,\u001b[49m\u001b[43m \u001b[49m\u001b[43mcenters\u001b[49m\u001b[43m,\u001b[49m\u001b[43m \u001b[49m\u001b[43mvolumes\u001b[49m\u001b[43m,\u001b[49m\u001b[43m \u001b[49m\u001b[43mList\u001b[49m\u001b[43m(\u001b[49m\u001b[43mn\u001b[49m\u001b[43m)\u001b[49m\u001b[43m,\u001b[49m\u001b[43m \u001b[49m\u001b[43mList\u001b[49m\u001b[43m(\u001b[49m\u001b[43md\u001b[49m\u001b[43m)\u001b[49m\u001b[43m)\u001b[49m\n\u001b[0;32m     20\u001b[0m     results\u001b[38;5;241m.\u001b[39mappend(S)\n\u001b[0;32m     21\u001b[0m \u001b[38;5;28;01mreturn\u001b[39;00m np\u001b[38;5;241m.\u001b[39mconcatenate(results)\n",
      "File \u001b[1;32mc:\\Users\\meyernil\\.conda\\envs\\fim-python\\Lib\\site-packages\\numba\\core\\serialize.py:30\u001b[0m, in \u001b[0;36m_numba_unpickle\u001b[1;34m(address, bytedata, hashed)\u001b[0m\n\u001b[0;32m     26\u001b[0m \u001b[38;5;66;03m# Keep unpickled object via `numba_unpickle` alive.\u001b[39;00m\n\u001b[0;32m     27\u001b[0m _unpickled_memo \u001b[38;5;241m=\u001b[39m {}\n\u001b[1;32m---> 30\u001b[0m \u001b[38;5;28;01mdef\u001b[39;00m \u001b[38;5;21m_numba_unpickle\u001b[39m(address, bytedata, hashed):\n\u001b[0;32m     31\u001b[0m \u001b[38;5;250m    \u001b[39m\u001b[38;5;124;03m\"\"\"Used by `numba_unpickle` from _helperlib.c\u001b[39;00m\n\u001b[0;32m     32\u001b[0m \n\u001b[0;32m     33\u001b[0m \u001b[38;5;124;03m    Parameters\u001b[39;00m\n\u001b[1;32m   (...)\u001b[0m\n\u001b[0;32m     42\u001b[0m \u001b[38;5;124;03m        unpickled object\u001b[39;00m\n\u001b[0;32m     43\u001b[0m \u001b[38;5;124;03m    \"\"\"\u001b[39;00m\n\u001b[0;32m     44\u001b[0m     key \u001b[38;5;241m=\u001b[39m (address, hashed)\n",
      "\u001b[1;31mKeyboardInterrupt\u001b[0m: "
     ]
    }
   ],
   "source": [
    "# Compute structure tensor\n",
    "bounding_box = np.max(points, axis=0) - np.min(points, axis=0)\n",
    "radius = min(0.25 * np.max(bounding_box), np.min(bounding_box))\n",
    "stensors = tensor_sweep(points, centers, cell_volumes, radius)\n",
    "mesh.point_data[\"Structure_tensor\"] = stensors.reshape((-1, 9))[:, [0, 4, 8, 1, 5, 2]]\n"
   ]
  },
  {
   "cell_type": "markdown",
   "metadata": {},
   "source": [
    "## Export results"
   ]
  },
  {
   "cell_type": "code",
   "execution_count": null,
   "metadata": {},
   "outputs": [],
   "source": [
    "if \"gmsh:geometrical\" in mesh.cell_data.keys():\n",
    "    mesh.cell_data.pop(\"gmsh:geometrical\")\n",
    "if \"gmsh:dim_tags\" in mesh.point_data.keys():\n",
    "    mesh.point_data.pop(\"gmsh:dim_tags\")\n",
    "meshio.write(\"control_arm_hole.vtu\", mesh)\n"
   ]
  }
 ],
 "metadata": {
  "kernelspec": {
   "display_name": "nutils",
   "language": "python",
   "name": "python3"
  },
  "language_info": {
   "codemirror_mode": {
    "name": "ipython",
    "version": 3
   },
   "file_extension": ".py",
   "mimetype": "text/x-python",
   "name": "python",
   "nbconvert_exporter": "python",
   "pygments_lexer": "ipython3",
   "version": "3.11.7"
  },
  "orig_nbformat": 4
 },
 "nbformat": 4,
 "nbformat_minor": 2
}

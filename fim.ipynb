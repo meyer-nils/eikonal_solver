{
 "cells": [
  {
   "cell_type": "code",
   "execution_count": 29,
   "metadata": {},
   "outputs": [],
   "source": [
    "import os\n",
    "\n",
    "import meshio\n",
    "import numpy as np\n",
    "from fimpy.solver import FIMPY\n",
    "from nutils import export, function, mesh\n",
    "from nutils.expression_v2 import Namespace\n",
    "\n",
    "from sklearn.neighbors import BallTree\n",
    "from numba import njit, prange\n",
    "from numba.typed import List\n"
   ]
  },
  {
   "cell_type": "code",
   "execution_count": 30,
   "metadata": {},
   "outputs": [
    {
     "name": "stdout",
     "output_type": "stream",
     "text": [
      "gmsh > loaded 3d gmsh topology consisting of #694049 elements\n",
      "\n"
     ]
    }
   ],
   "source": [
    "# Read with nutils\n",
    "mesh_name = os.path.join(\"control_arm\", \"control_arm.msh\")\n",
    "domain, geom = mesh.gmsh(mesh_name)\n",
    "\n",
    "# Read with meshio\n",
    "msh = meshio.read(mesh_name)\n",
    "points = msh.points\n",
    "elem = msh.cells[0].data\n",
    "\n",
    "# Injection location\n",
    "injection_locs = [[-25.000, 111.916, 18.961]]"
   ]
  },
  {
   "cell_type": "code",
   "execution_count": 31,
   "metadata": {},
   "outputs": [],
   "source": [
    "# Prepare nutils variables\n",
    "ns = Namespace()\n",
    "ns.x = geom\n",
    "ns.define_for(\"x\", gradient=\"∇\", normal=\"n\", jacobians=(\"dV\", \"dS\"))\n",
    "ns.basis = domain.basis(\"std\", degree=1)\n",
    "ns.D = function.dotarg(\"lhs\", ns.basis)"
   ]
  },
  {
   "cell_type": "code",
   "execution_count": 32,
   "metadata": {},
   "outputs": [],
   "source": [
    "# Compute distance to surface walls\n",
    "D = np.stack([np.eye(3)] * len(elem))\n",
    "faces = np.vstack(\n",
    "    [elem[:, [0, 1, 2]], elem[:, [1, 2, 3]], elem[:, [0, 2, 3]], elem[:, [0, 1, 3]]]\n",
    ")\n",
    "faces = np.sort(faces, axis=1)\n",
    "_, indices, counts = np.unique(faces, axis=0, return_counts=True, return_index=True)\n",
    "indices = indices[np.argwhere(counts == 1)]\n",
    "surface_nodes = np.unique(faces[indices]).ravel()"
   ]
  },
  {
   "cell_type": "code",
   "execution_count": 33,
   "metadata": {},
   "outputs": [],
   "source": [
    "fim = FIMPY.create_fim_solver(points, elem, D, device=\"cpu\", use_active_list=False)\n",
    "D_w = fim.comp_fim(surface_nodes, np.zeros_like(surface_nodes))"
   ]
  },
  {
   "cell_type": "code",
   "execution_count": 34,
   "metadata": {},
   "outputs": [],
   "source": [
    "# Compute weighted distance to inlet\n",
    "inlet_nodes = []\n",
    "for injection_loc in injection_locs:\n",
    "    dist_to_inlet = np.linalg.norm(points - injection_loc, axis=-1)\n",
    "    inlet_nodes.append(np.argmin(dist_to_inlet, axis=0))\n",
    "inlet_nodes = np.array(inlet_nodes)\n",
    "D_w_elem = np.mean(D_w[elem], axis=1)\n",
    "D2 = np.einsum(\"i,jk->ijk\", D_w_elem, np.eye(3))"
   ]
  },
  {
   "cell_type": "code",
   "execution_count": 35,
   "metadata": {},
   "outputs": [],
   "source": [
    "fim2 = FIMPY.create_fim_solver(points, elem, D2, device=\"cpu\")\n",
    "D_i2 = fim2.comp_fim(inlet_nodes, np.zeros_like(inlet_nodes))"
   ]
  },
  {
   "cell_type": "code",
   "execution_count": 36,
   "metadata": {},
   "outputs": [],
   "source": [
    "@njit(parallel=True)\n",
    "def compute_structure_tensor(points, centers, volumes, indices, dist):\n",
    "    num_points = len(points)\n",
    "    result = np.zeros((num_points, 3, 3))\n",
    "    for i in prange(num_points):\n",
    "        idx = indices[i]\n",
    "        diffs = centers[idx] - points[i]\n",
    "        vols = volumes[idx]\n",
    "        dirs = diffs.T / dist[i]\n",
    "        result[i, :, :] = np.dot(vols * dirs, dirs.T) / np.sum(vols)\n",
    "    return result\n",
    "\n",
    "\n",
    "def tensor_sweep(points, centers, volumes, radius):\n",
    "    tree = BallTree(centers)\n",
    "    results = []\n",
    "    chunks = np.array_split(points, 100)\n",
    "    for chunk in chunks:\n",
    "        n, d = tree.query_radius(chunk, r=radius, return_distance=True)\n",
    "        S = compute_structure_tensor(chunk, centers, volumes, List(n), List(d))\n",
    "        results.append(S)\n",
    "    return np.concatenate(results)"
   ]
  },
  {
   "cell_type": "code",
   "execution_count": 37,
   "metadata": {},
   "outputs": [],
   "source": [
    "bounding_box = np.max(points, axis=0) - np.min(points, axis=0)\n",
    "cell_coords = np.concatenate([points[block.data] for block in msh.cells])\n",
    "centers = np.mean(cell_coords, axis=1)\n",
    "\n",
    "# Get node to cell relations\n",
    "node2cells = {k: [] for k in range(len(points))}\n",
    "for block in msh.cells:\n",
    "    for i, cell in enumerate(block.data):\n",
    "        for j, node in enumerate(cell):\n",
    "            node2cells[node].append(i)\n",
    "\n",
    "# Get cell volumes\n",
    "a = cell_coords[:, 1, :] - cell_coords[:, 0, :]\n",
    "b = cell_coords[:, 2, :] - cell_coords[:, 0, :]\n",
    "c = cell_coords[:, 3, :] - cell_coords[:, 0, :]\n",
    "omega = np.einsum(\"ij,ij->i\", a, np.cross(b, c), optimize=True)\n",
    "cell_volumes = np.abs(omega) / 6.0\n",
    "\n",
    "# Interpolate volume field to points\n",
    "node_volumes = np.array(\n",
    "    [np.sum(cell_volumes[node2cells[node]] / 4.0) for node in range(len(points))]\n",
    ")\n",
    "msh.point_data[\"Volume\"] = node_volumes"
   ]
  },
  {
   "cell_type": "code",
   "execution_count": 38,
   "metadata": {},
   "outputs": [],
   "source": [
    "# Compute structure tensor\n",
    "radius = min(0.25 * np.max(bounding_box), np.min(bounding_box))\n",
    "stensors = tensor_sweep(points, centers, cell_volumes, radius)\n",
    "msh.point_data[\"Structure_tensor\"] = stensors.reshape((-1, 9))[:, [0, 4, 8, 1, 5, 2]]"
   ]
  },
  {
   "cell_type": "code",
   "execution_count": 39,
   "metadata": {},
   "outputs": [],
   "source": [
    "# Evaluate on mesh\n",
    "bezier = domain.sample(\"vtk\", 2)\n",
    "D_w = bezier.eval(\"D\" @ ns, lhs=D_w)"
   ]
  },
  {
   "cell_type": "code",
   "execution_count": 40,
   "metadata": {},
   "outputs": [],
   "source": [
    "x, D_i2, dD_i2 = bezier.eval([\"x_i\", \"D\", \"∇_i(D)\"] @ ns, lhs=D_i2)"
   ]
  },
  {
   "cell_type": "code",
   "execution_count": 41,
   "metadata": {},
   "outputs": [
    {
     "name": "stdout",
     "output_type": "stream",
     "text": [
      "control_arm/control_arm.vtk\n"
     ]
    }
   ],
   "source": [
    "# Export result\n",
    "export.vtk(mesh_name[:-4], bezier.tri, x, D_w=D_w, D_i2=D_i2, dD_i2=dD_i2)"
   ]
  },
  {
   "cell_type": "code",
   "execution_count": 42,
   "metadata": {},
   "outputs": [],
   "source": [
    "# Reorder mesh\n",
    "indices = np.lexsort(np.fliplr(msh.points).T)\n",
    "reverse_indices = np.argsort(indices)\n",
    "points = msh.points[indices]\n",
    "cells = []\n",
    "for cell_block in msh.cells:\n",
    "    cell_block.data = reverse_indices[cell_block.data]\n",
    "    cells.append(cell_block)\n",
    "point_data = {}\n",
    "for label, pdata in msh.point_data.items():\n",
    "    point_data[label] = pdata[indices]\n",
    "\n",
    "nutils_mesh = meshio.vtk.read(mesh_name.replace(\".msh\", \".vtk\"))\n",
    "_, indices = np.unique(nutils_mesh.points, return_index=True, axis=0)\n",
    "for label, pdata in nutils_mesh.point_data.items():\n",
    "    point_data[label] = pdata[indices]\n",
    "\n",
    "result = meshio.Mesh(points=points, cells=cells, point_data=point_data)\n",
    "meshio.write(\"control_arm_hole.vtu\", result)"
   ]
  }
 ],
 "metadata": {
  "kernelspec": {
   "display_name": "nutils",
   "language": "python",
   "name": "python3"
  },
  "language_info": {
   "codemirror_mode": {
    "name": "ipython",
    "version": 3
   },
   "file_extension": ".py",
   "mimetype": "text/x-python",
   "name": "python",
   "nbconvert_exporter": "python",
   "pygments_lexer": "ipython3",
   "version": "3.9.15"
  },
  "orig_nbformat": 4
 },
 "nbformat": 4,
 "nbformat_minor": 2
}

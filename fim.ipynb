{
 "cells": [
  {
   "cell_type": "code",
   "execution_count": 101,
   "metadata": {},
   "outputs": [],
   "source": [
    "import os\n",
    "\n",
    "import matplotlib.pyplot as plt\n",
    "import meshio\n",
    "import numpy as np\n",
    "from fimpy.solver import FIMPY\n",
    "from joblib import Parallel, delayed\n",
    "from numba import njit, prange\n",
    "from numba.typed import List\n",
    "from sklearn.neighbors import BallTree"
   ]
  },
  {
   "cell_type": "code",
   "execution_count": 102,
   "metadata": {},
   "outputs": [
    {
     "name": "stdout",
     "output_type": "stream",
     "text": [
      "Running on GPU.\n"
     ]
    }
   ],
   "source": [
    "try:\n",
    "    import cupy as cp\n",
    "    import cupyx\n",
    "\n",
    "    device = \"gpu\"\n",
    "except ModuleNotFoundError:\n",
    "    device = \"cpu\"\n",
    "\n",
    "DTYPE = np.float32\n",
    "\n",
    "print(f\"Running on {device.upper()}.\")"
   ]
  },
  {
   "cell_type": "markdown",
   "metadata": {},
   "source": [
    "## Load a Mesh \n",
    "This can be any mesh format that meshio can read. However, it needs to contain linear tetrahedral elements only."
   ]
  },
  {
   "cell_type": "code",
   "execution_count": 103,
   "metadata": {},
   "outputs": [
    {
     "name": "stdout",
     "output_type": "stream",
     "text": [
      "\n"
     ]
    }
   ],
   "source": [
    "# File to read\n",
    "mesh_name = os.path.join(\"control_arm\", \"control_arm.msh\")\n",
    "fill_time = 8.6\n",
    "injection_locs = [[-25.000, 111.916, 18.961]]\n",
    "# mesh_name = os.path.join(\"center_gated_disk\", \"center_gated_disk.msh\")\n",
    "# fill_time = 1.2\n",
    "# injection_locs = [[0.0, 0.0, 3.0]]\n",
    "\n",
    "# Read mesh with meshio\n",
    "mesh = meshio.read(mesh_name)\n",
    "points = mesh.points.astype(DTYPE)\n",
    "elements = mesh.cells[0].data"
   ]
  },
  {
   "cell_type": "markdown",
   "metadata": {},
   "source": [
    "## Boundary conditions \n",
    "`injection_locs` is a list of 3D coordinates on the surface of the domain and prescribes the injection gate locations. It is used to compute the Dirichlet boundary nodes for the eikonal equation that computes distances to the injection points."
   ]
  },
  {
   "cell_type": "code",
   "execution_count": 104,
   "metadata": {},
   "outputs": [],
   "source": [
    "# Get inlet nodes\n",
    "inlet_nodes = []\n",
    "for injection_loc in injection_locs:\n",
    "    dist_to_inlet = np.linalg.norm(points - injection_loc, axis=-1)\n",
    "    inlet_nodes.append(np.argmin(dist_to_inlet, axis=0))\n",
    "inlet_nodes = np.array(inlet_nodes)"
   ]
  },
  {
   "cell_type": "markdown",
   "metadata": {},
   "source": [
    "In addition to the injection nodes, all surface nodes are determined to compute distances to the next mold wall."
   ]
  },
  {
   "cell_type": "code",
   "execution_count": 105,
   "metadata": {},
   "outputs": [],
   "source": [
    "# Get surface nodes\n",
    "faces = np.vstack(\n",
    "    [\n",
    "        elements[:, [0, 1, 2]],\n",
    "        elements[:, [1, 2, 3]],\n",
    "        elements[:, [0, 2, 3]],\n",
    "        elements[:, [0, 1, 3]],\n",
    "    ]\n",
    ")\n",
    "faces = np.sort(faces, axis=1)\n",
    "_, indices, counts = np.unique(faces, axis=0, return_counts=True, return_index=True)\n",
    "indices = indices[np.argwhere(counts == 1)]\n",
    "surface_nodes = np.unique(faces[indices]).ravel()"
   ]
  },
  {
   "cell_type": "markdown",
   "metadata": {},
   "source": [
    "## Compute the distance measures\n",
    "\n",
    "The first distance is the geodesic distance to the nearest mold wall $D_w$. "
   ]
  },
  {
   "cell_type": "code",
   "execution_count": 106,
   "metadata": {},
   "outputs": [],
   "source": [
    "# Set velocity field isotropic to 1\n",
    "f = np.stack([np.eye(3)] * len(elements))\n",
    "\n",
    "# Compute geodesic distance to walls\n",
    "fim = FIMPY.create_fim_solver(points, elements, f, device=device)\n",
    "D_w = fim.comp_fim(surface_nodes, np.zeros_like(surface_nodes))\n",
    "mesh.point_data[\"D_w\"] = D_w"
   ]
  },
  {
   "cell_type": "markdown",
   "metadata": {},
   "source": [
    "The next distance is the geodesic distance to the nearest inlet location $D_i$. "
   ]
  },
  {
   "cell_type": "code",
   "execution_count": 107,
   "metadata": {},
   "outputs": [],
   "source": [
    "# Compute geodesic distance to inlet\n",
    "fim = FIMPY.create_fim_solver(points, elements, f, device=device)\n",
    "D_i = fim.comp_fim(inlet_nodes, np.zeros_like(inlet_nodes))\n",
    "mesh.point_data[\"D_i\"] = D_i"
   ]
  },
  {
   "cell_type": "markdown",
   "metadata": {},
   "source": [
    "The next distance is the weightes distance to the nearest inlet location $\\hat{D}_i$. "
   ]
  },
  {
   "cell_type": "code",
   "execution_count": 108,
   "metadata": {},
   "outputs": [],
   "source": [
    "# Set velocity field isotropic to wall distance\n",
    "D_w_elements = np.mean(D_w[elements], axis=1)\n",
    "f = np.einsum(\"i,jk->ijk\", D_w_elements, np.eye(3))\n",
    "\n",
    "# Compute weighted distance to inlet\n",
    "fim = FIMPY.create_fim_solver(points, elements, f, device=device)\n",
    "D_i_hat = fim.comp_fim(inlet_nodes, np.zeros_like(inlet_nodes))\n",
    "mesh.point_data[\"D_i_hat\"] = D_i_hat"
   ]
  },
  {
   "cell_type": "markdown",
   "metadata": {},
   "source": [
    "## Nodal volumes\n",
    "The volume attributed to each node is computed for further processing. Therefore, a fourth of each cells volume is contributing to the volume associated with each of its nodes."
   ]
  },
  {
   "cell_type": "code",
   "execution_count": 109,
   "metadata": {},
   "outputs": [],
   "source": [
    "cell_coords = points[elements]\n",
    "centers = np.mean(cell_coords, axis=1)\n",
    "\n",
    "# Get node to cell relations\n",
    "n2e = {k: [] for k in range(len(points))}\n",
    "for i, cell in enumerate(elements):\n",
    "    for j, node in enumerate(cell):\n",
    "        n2e[node].append(i)\n",
    "\n",
    "# Get cell volumes\n",
    "a = cell_coords[:, 1, :] - cell_coords[:, 0, :]\n",
    "b = cell_coords[:, 2, :] - cell_coords[:, 0, :]\n",
    "c = cell_coords[:, 3, :] - cell_coords[:, 0, :]\n",
    "omega = np.einsum(\"ij,ij->i\", a, np.cross(b, c), optimize=True)\n",
    "cell_volumes = np.abs(omega) / 6.0\n",
    "\n",
    "# Interpolate volume field to points\n",
    "node_volumes = np.array(\n",
    "    [np.sum(cell_volumes[n2e[node]] / 4.0) for node in range(len(points))]\n",
    ")\n",
    "mesh.point_data[\"Volume\"] = node_volumes"
   ]
  },
  {
   "cell_type": "markdown",
   "metadata": {},
   "source": [
    "## Normalization\n",
    "The weighted distance to the injection gate and nodal volumes are used to construct a normalized fill front in which equal increments of the fill front imply equal increemnts in filled volume. Then, the gradient of the new fill front approximation is computed with a tetragonal shape function and interpolated to nodes. "
   ]
  },
  {
   "cell_type": "code",
   "execution_count": 110,
   "metadata": {},
   "outputs": [
    {
     "data": {
      "image/png": "[encoded data removed]",
      "text/plain": [
       "<Figure size 640x480 with 1 Axes>"
      ]
     },
     "metadata": {},
     "output_type": "display_data"
    }
   ],
   "source": [
    "if device == \"gpu\":\n",
    "    dist = D_i_hat.get().ravel()\n",
    "else:\n",
    "    dist = D_i_hat.ravel()\n",
    "time = mesh.point_data[\"Fill_time\"].ravel()\n",
    "volume = mesh.point_data[\"Volume\"].ravel()\n",
    "\n",
    "distorder = np.argsort(dist)\n",
    "timeorder = np.argsort(time)\n",
    "distF = np.cumsum(volume[distorder])\n",
    "timeF = np.cumsum(volume[timeorder])\n",
    "plt.plot([0, 1], [0, 1], \"--k\")\n",
    "plt.plot((time[timeorder] / fill_time), (timeF / np.sum(volume)))\n",
    "plt.plot((dist[distorder] / np.max(dist)), (distF / np.sum(volume)))\n",
    "plt.xlabel(\"Relative fill time\")\n",
    "plt.ylabel(\"Filled volume fraction\")\n",
    "plt.legend(\n",
    "    [\"Theoretical (const. fill rate)\", \"Simulation\", \"Distance-based accumulation\"]\n",
    ")\n",
    "plt.show()"
   ]
  },
  {
   "cell_type": "code",
   "execution_count": 111,
   "metadata": {},
   "outputs": [],
   "source": [
    "order = np.argsort(dist)\n",
    "ridx = np.argsort(order)\n",
    "F = np.cumsum(node_volumes[order]) / np.sum(node_volumes)\n",
    "fill_front_norm = F[ridx]\n",
    "mesh.point_data[\"Normalized_fill_front\"] = fill_front_norm"
   ]
  },
  {
   "cell_type": "code",
   "execution_count": 112,
   "metadata": {},
   "outputs": [],
   "source": [
    "# Compute gradient\n",
    "B = np.array([[-1.0, 1.0, 0.0, 0.0], [-1.0, 0.0, 1.0, 0.0], [-1.0, 0.0, 0.0, 1.0]])\n",
    "J = B @ points[elements, :]\n",
    "edirs = np.einsum(\"...ij, ...j\", np.linalg.inv(J) @ B, fill_front_norm[elements])\n",
    "ndirs = np.array([np.mean(edirs[n2e[node]], axis=0) for node in range(len(points))])\n",
    "mesh.point_data[\"Fill_gradient\"] = ndirs / np.linalg.norm(ndirs, axis=1)[:, None]"
   ]
  },
  {
   "cell_type": "markdown",
   "metadata": {},
   "source": [
    "## Structure tensor\n",
    "The structure tensor is a second order tensor measuring the directionality of the material distribution in the domain."
   ]
  },
  {
   "cell_type": "code",
   "execution_count": 136,
   "metadata": {},
   "outputs": [],
   "source": [
    "@njit(fastmath=True)\n",
    "def compute_structure_tensor(points, centers, volumes, indices, dist):\n",
    "    num_points = len(points)\n",
    "    result = np.zeros((num_points, 3, 3))\n",
    "    for i in prange(num_points):\n",
    "        idx = indices[i]\n",
    "        diffs = centers[idx] - points[i]\n",
    "        vols = volumes[idx]\n",
    "        dirs = diffs.T / dist[i]\n",
    "        result[i, :, :] = np.dot(vols * dirs, dirs.T) / np.sum(vols)\n",
    "    return result\n",
    "\n",
    "\n",
    "def tensor_sweep(points, centers, volumes, radius, parallel=True):\n",
    "    tree = BallTree(centers)\n",
    "\n",
    "    def process_chunk(chunk):\n",
    "        n, d = tree.query_radius(chunk, r=radius, return_distance=True)\n",
    "        return compute_structure_tensor(chunk, centers, volumes, List(n), List(d))\n",
    "\n",
    "    chunks = np.array_split(points, 10000)\n",
    "    if parallel:\n",
    "        results = Parallel(n_jobs=10)(delayed(process_chunk)(chunk) for chunk in chunks)\n",
    "    else:\n",
    "        results = [process_chunk(chunk) for chunk in chunks]\n",
    "    return np.concatenate(results)"
   ]
  },
  {
   "cell_type": "code",
   "execution_count": 141,
   "metadata": {},
   "outputs": [],
   "source": [
    "@njit\n",
    "def gpu_compute_structure_tensor(points, centers, volumes, indices, dist):\n",
    "    num_points = len(points)\n",
    "    points = cp.asarray(points)\n",
    "    centers = cp.asarray(centers)\n",
    "    volumes = cp.asarray(volumes)\n",
    "    dist =  [cp.asarray(d, dtype=DTYPE) for d in dist]\n",
    "    result = cp.zeros((num_points, 3, 3), dtype=DTYPE)\n",
    "    for i in range(num_points):\n",
    "        idx = indices[i]\n",
    "        diffs = centers[idx] - points[i]\n",
    "        vols = volumes[idx]\n",
    "        dirs = diffs.T / dist[i]\n",
    "        result[i, :, :] = cp.dot(vols * dirs, dirs.T) / cp.sum(vols)\n",
    "    return result.get()\n",
    "\n",
    "\n",
    "def gpu_tensor_sweep(points, centers, volumes, radius, parallel=True):\n",
    "    tree = BallTree(centers)\n",
    "\n",
    "    def process_chunk(chunk):\n",
    "        n, d = tree.query_radius(chunk, r=radius, return_distance=True)\n",
    "        return gpu_compute_structure_tensor(chunk, centers, volumes, n, d)\n",
    "\n",
    "    chunks = np.array_split(points, 10000)\n",
    "    if parallel:\n",
    "        results = Parallel(n_jobs=10)(delayed(process_chunk)(chunk) for chunk in chunks)\n",
    "    else:\n",
    "        results = [process_chunk(chunk) for chunk in chunks]\n",
    "    return np.concatenate(results)"
   ]
  },
  {
   "cell_type": "code",
   "execution_count": 142,
   "metadata": {},
   "outputs": [
    {
     "ename": "TypingError",
     "evalue": "\u001b[1mFailed in nopython mode pipeline (step: nopython frontend)\n\u001b[1m\u001b[1mUnknown attribute 'asarray' of type Module(<module 'cupy' from 'c:\\\\Users\\\\meyernil\\\\.conda\\\\envs\\\\fim-python\\\\Lib\\\\site-packages\\\\cupy\\\\__init__.py'>)\n\u001b[1m\nFile \"..\\AppData\\Local\\Temp\\ipykernel_29040\\3257026388.py\", line 4:\u001b[0m\n\u001b[1m<source missing, REPL/exec in use?>\u001b[0m\n\u001b[0m\n\u001b[0m\u001b[1mDuring: typing of get attribute at C:\\Users\\meyernil\\AppData\\Local\\Temp\\ipykernel_29040\\3257026388.py (4)\u001b[0m\n\u001b[1m\nFile \"..\\AppData\\Local\\Temp\\ipykernel_29040\\3257026388.py\", line 4:\u001b[0m\n\u001b[1m<source missing, REPL/exec in use?>\u001b[0m\n\u001b[0m",
     "output_type": "error",
     "traceback": [
      "\u001b[1;31m---------------------------------------------------------------------------\u001b[0m",
      "\u001b[1;31m_RemoteTraceback\u001b[0m                          Traceback (most recent call last)",
      "\u001b[1;31m_RemoteTraceback\u001b[0m: \n\"\"\"\nTraceback (most recent call last):\n  File \"c:\\Users\\meyernil\\.conda\\envs\\fim-python\\Lib\\site-packages\\joblib\\externals\\loky\\process_executor.py\", line 463, in _process_worker\n    r = call_item()\n        ^^^^^^^^^^^\n  File \"c:\\Users\\meyernil\\.conda\\envs\\fim-python\\Lib\\site-packages\\joblib\\externals\\loky\\process_executor.py\", line 291, in __call__\n    return self.fn(*self.args, **self.kwargs)\n           ^^^^^^^^^^^^^^^^^^^^^^^^^^^^^^^^^^\n  File \"c:\\Users\\meyernil\\.conda\\envs\\fim-python\\Lib\\site-packages\\joblib\\parallel.py\", line 589, in __call__\n    return [func(*args, **kwargs)\n           ^^^^^^^^^^^^^^^^^^^^^^\n  File \"c:\\Users\\meyernil\\.conda\\envs\\fim-python\\Lib\\site-packages\\joblib\\parallel.py\", line 589, in <listcomp>\n    return [func(*args, **kwargs)\n            ^^^^^^^^^^^^^^^^^^^^^\n  File \"C:\\Users\\meyernil\\AppData\\Local\\Temp\\ipykernel_29040\\3257026388.py\", line 23, in process_chunk\n  File \"c:\\Users\\meyernil\\.conda\\envs\\fim-python\\Lib\\site-packages\\numba\\core\\dispatcher.py\", line 468, in _compile_for_args\n    error_rewrite(e, 'typing')\n  File \"c:\\Users\\meyernil\\.conda\\envs\\fim-python\\Lib\\site-packages\\numba\\core\\dispatcher.py\", line 409, in error_rewrite\n    raise e.with_traceback(None)\nnumba.core.errors.TypingError: Failed in nopython mode pipeline (step: nopython frontend)\n\u001b[1m\u001b[1mUnknown attribute 'asarray' of type Module(<module 'cupy' from 'c:\\\\Users\\\\meyernil\\\\.conda\\\\envs\\\\fim-python\\\\Lib\\\\site-packages\\\\cupy\\\\__init__.py'>)\n\u001b[1m\nFile \"..\\AppData\\Local\\Temp\\ipykernel_29040\\3257026388.py\", line 4:\u001b[0m\n\u001b[1m<source missing, REPL/exec in use?>\u001b[0m\n\u001b[0m\n\u001b[0m\u001b[1mDuring: typing of get attribute at C:\\Users\\meyernil\\AppData\\Local\\Temp\\ipykernel_29040\\3257026388.py (4)\u001b[0m\n\u001b[1m\nFile \"..\\AppData\\Local\\Temp\\ipykernel_29040\\3257026388.py\", line 4:\u001b[0m\n\u001b[1m<source missing, REPL/exec in use?>\u001b[0m\n\n\"\"\"",
      "\nThe above exception was the direct cause of the following exception:\n",
      "\u001b[1;31mTypingError\u001b[0m                               Traceback (most recent call last)",
      "Cell \u001b[1;32mIn[142], line 5\u001b[0m\n\u001b[0;32m      3\u001b[0m radius \u001b[38;5;241m=\u001b[39m \u001b[38;5;28mmin\u001b[39m(\u001b[38;5;241m0.25\u001b[39m \u001b[38;5;241m*\u001b[39m np\u001b[38;5;241m.\u001b[39mmax(bounding_box), np\u001b[38;5;241m.\u001b[39mmin(bounding_box))\n\u001b[0;32m      4\u001b[0m \u001b[38;5;28;01mif\u001b[39;00m device \u001b[38;5;241m==\u001b[39m \u001b[38;5;124m\"\u001b[39m\u001b[38;5;124mgpu\u001b[39m\u001b[38;5;124m\"\u001b[39m:\n\u001b[1;32m----> 5\u001b[0m    tensors \u001b[38;5;241m=\u001b[39m \u001b[43mgpu_tensor_sweep\u001b[49m\u001b[43m(\u001b[49m\u001b[43mpoints\u001b[49m\u001b[43m,\u001b[49m\u001b[43m \u001b[49m\u001b[43mcenters\u001b[49m\u001b[43m,\u001b[49m\u001b[43m \u001b[49m\u001b[43mcell_volumes\u001b[49m\u001b[43m,\u001b[49m\u001b[43m \u001b[49m\u001b[43mradius\u001b[49m\u001b[43m)\u001b[49m\n\u001b[0;32m      6\u001b[0m \u001b[38;5;28;01melse\u001b[39;00m:\n\u001b[0;32m      7\u001b[0m     tensors \u001b[38;5;241m=\u001b[39m tensor_sweep(points, centers, cell_volumes, radius)\n",
      "Cell \u001b[1;32mIn[141], line 27\u001b[0m, in \u001b[0;36mgpu_tensor_sweep\u001b[1;34m(points, centers, volumes, radius, parallel)\u001b[0m\n\u001b[0;32m     25\u001b[0m chunks \u001b[38;5;241m=\u001b[39m np\u001b[38;5;241m.\u001b[39marray_split(points, \u001b[38;5;241m10000\u001b[39m)\n\u001b[0;32m     26\u001b[0m \u001b[38;5;28;01mif\u001b[39;00m parallel:\n\u001b[1;32m---> 27\u001b[0m     results \u001b[38;5;241m=\u001b[39m \u001b[43mParallel\u001b[49m\u001b[43m(\u001b[49m\u001b[43mn_jobs\u001b[49m\u001b[38;5;241;43m=\u001b[39;49m\u001b[38;5;241;43m10\u001b[39;49m\u001b[43m)\u001b[49m\u001b[43m(\u001b[49m\u001b[43mdelayed\u001b[49m\u001b[43m(\u001b[49m\u001b[43mprocess_chunk\u001b[49m\u001b[43m)\u001b[49m\u001b[43m(\u001b[49m\u001b[43mchunk\u001b[49m\u001b[43m)\u001b[49m\u001b[43m \u001b[49m\u001b[38;5;28;43;01mfor\u001b[39;49;00m\u001b[43m \u001b[49m\u001b[43mchunk\u001b[49m\u001b[43m \u001b[49m\u001b[38;5;129;43;01min\u001b[39;49;00m\u001b[43m \u001b[49m\u001b[43mchunks\u001b[49m\u001b[43m)\u001b[49m\n\u001b[0;32m     28\u001b[0m \u001b[38;5;28;01melse\u001b[39;00m:\n\u001b[0;32m     29\u001b[0m     results \u001b[38;5;241m=\u001b[39m [process_chunk(chunk) \u001b[38;5;28;01mfor\u001b[39;00m chunk \u001b[38;5;129;01min\u001b[39;00m chunks]\n",
      "File \u001b[1;32mc:\\Users\\meyernil\\.conda\\envs\\fim-python\\Lib\\site-packages\\joblib\\parallel.py:1952\u001b[0m, in \u001b[0;36mParallel.__call__\u001b[1;34m(self, iterable)\u001b[0m\n\u001b[0;32m   1946\u001b[0m \u001b[38;5;66;03m# The first item from the output is blank, but it makes the interpreter\u001b[39;00m\n\u001b[0;32m   1947\u001b[0m \u001b[38;5;66;03m# progress until it enters the Try/Except block of the generator and\u001b[39;00m\n\u001b[0;32m   1948\u001b[0m \u001b[38;5;66;03m# reach the first `yield` statement. This starts the aynchronous\u001b[39;00m\n\u001b[0;32m   1949\u001b[0m \u001b[38;5;66;03m# dispatch of the tasks to the workers.\u001b[39;00m\n\u001b[0;32m   1950\u001b[0m \u001b[38;5;28mnext\u001b[39m(output)\n\u001b[1;32m-> 1952\u001b[0m \u001b[38;5;28;01mreturn\u001b[39;00m output \u001b[38;5;28;01mif\u001b[39;00m \u001b[38;5;28mself\u001b[39m\u001b[38;5;241m.\u001b[39mreturn_generator \u001b[38;5;28;01melse\u001b[39;00m \u001b[38;5;28mlist\u001b[39m(output)\n",
      "File \u001b[1;32mc:\\Users\\meyernil\\.conda\\envs\\fim-python\\Lib\\site-packages\\joblib\\parallel.py:1595\u001b[0m, in \u001b[0;36mParallel._get_outputs\u001b[1;34m(self, iterator, pre_dispatch)\u001b[0m\n\u001b[0;32m   1592\u001b[0m     \u001b[38;5;28;01myield\u001b[39;00m\n\u001b[0;32m   1594\u001b[0m     \u001b[38;5;28;01mwith\u001b[39;00m \u001b[38;5;28mself\u001b[39m\u001b[38;5;241m.\u001b[39m_backend\u001b[38;5;241m.\u001b[39mretrieval_context():\n\u001b[1;32m-> 1595\u001b[0m         \u001b[38;5;28;01myield from\u001b[39;00m \u001b[38;5;28mself\u001b[39m\u001b[38;5;241m.\u001b[39m_retrieve()\n\u001b[0;32m   1597\u001b[0m \u001b[38;5;28;01mexcept\u001b[39;00m \u001b[38;5;167;01mGeneratorExit\u001b[39;00m:\n\u001b[0;32m   1598\u001b[0m     \u001b[38;5;66;03m# The generator has been garbage collected before being fully\u001b[39;00m\n\u001b[0;32m   1599\u001b[0m     \u001b[38;5;66;03m# consumed. This aborts the remaining tasks if possible and warn\u001b[39;00m\n\u001b[0;32m   1600\u001b[0m     \u001b[38;5;66;03m# the user if necessary.\u001b[39;00m\n\u001b[0;32m   1601\u001b[0m     \u001b[38;5;28mself\u001b[39m\u001b[38;5;241m.\u001b[39m_exception \u001b[38;5;241m=\u001b[39m \u001b[38;5;28;01mTrue\u001b[39;00m\n",
      "File \u001b[1;32mc:\\Users\\meyernil\\.conda\\envs\\fim-python\\Lib\\site-packages\\joblib\\parallel.py:1699\u001b[0m, in \u001b[0;36mParallel._retrieve\u001b[1;34m(self)\u001b[0m\n\u001b[0;32m   1692\u001b[0m \u001b[38;5;28;01mwhile\u001b[39;00m \u001b[38;5;28mself\u001b[39m\u001b[38;5;241m.\u001b[39m_wait_retrieval():\n\u001b[0;32m   1693\u001b[0m \n\u001b[0;32m   1694\u001b[0m     \u001b[38;5;66;03m# If the callback thread of a worker has signaled that its task\u001b[39;00m\n\u001b[0;32m   1695\u001b[0m     \u001b[38;5;66;03m# triggered an exception, or if the retrieval loop has raised an\u001b[39;00m\n\u001b[0;32m   1696\u001b[0m     \u001b[38;5;66;03m# exception (e.g. `GeneratorExit`), exit the loop and surface the\u001b[39;00m\n\u001b[0;32m   1697\u001b[0m     \u001b[38;5;66;03m# worker traceback.\u001b[39;00m\n\u001b[0;32m   1698\u001b[0m     \u001b[38;5;28;01mif\u001b[39;00m \u001b[38;5;28mself\u001b[39m\u001b[38;5;241m.\u001b[39m_aborting:\n\u001b[1;32m-> 1699\u001b[0m         \u001b[38;5;28;43mself\u001b[39;49m\u001b[38;5;241;43m.\u001b[39;49m\u001b[43m_raise_error_fast\u001b[49m\u001b[43m(\u001b[49m\u001b[43m)\u001b[49m\n\u001b[0;32m   1700\u001b[0m         \u001b[38;5;28;01mbreak\u001b[39;00m\n\u001b[0;32m   1702\u001b[0m     \u001b[38;5;66;03m# If the next job is not ready for retrieval yet, we just wait for\u001b[39;00m\n\u001b[0;32m   1703\u001b[0m     \u001b[38;5;66;03m# async callbacks to progress.\u001b[39;00m\n",
      "File \u001b[1;32mc:\\Users\\meyernil\\.conda\\envs\\fim-python\\Lib\\site-packages\\joblib\\parallel.py:1734\u001b[0m, in \u001b[0;36mParallel._raise_error_fast\u001b[1;34m(self)\u001b[0m\n\u001b[0;32m   1730\u001b[0m \u001b[38;5;66;03m# If this error job exists, immediatly raise the error by\u001b[39;00m\n\u001b[0;32m   1731\u001b[0m \u001b[38;5;66;03m# calling get_result. This job might not exists if abort has been\u001b[39;00m\n\u001b[0;32m   1732\u001b[0m \u001b[38;5;66;03m# called directly or if the generator is gc'ed.\u001b[39;00m\n\u001b[0;32m   1733\u001b[0m \u001b[38;5;28;01mif\u001b[39;00m error_job \u001b[38;5;129;01mis\u001b[39;00m \u001b[38;5;129;01mnot\u001b[39;00m \u001b[38;5;28;01mNone\u001b[39;00m:\n\u001b[1;32m-> 1734\u001b[0m     \u001b[43merror_job\u001b[49m\u001b[38;5;241;43m.\u001b[39;49m\u001b[43mget_result\u001b[49m\u001b[43m(\u001b[49m\u001b[38;5;28;43mself\u001b[39;49m\u001b[38;5;241;43m.\u001b[39;49m\u001b[43mtimeout\u001b[49m\u001b[43m)\u001b[49m\n",
      "File \u001b[1;32mc:\\Users\\meyernil\\.conda\\envs\\fim-python\\Lib\\site-packages\\joblib\\parallel.py:736\u001b[0m, in \u001b[0;36mBatchCompletionCallBack.get_result\u001b[1;34m(self, timeout)\u001b[0m\n\u001b[0;32m    730\u001b[0m backend \u001b[38;5;241m=\u001b[39m \u001b[38;5;28mself\u001b[39m\u001b[38;5;241m.\u001b[39mparallel\u001b[38;5;241m.\u001b[39m_backend\n\u001b[0;32m    732\u001b[0m \u001b[38;5;28;01mif\u001b[39;00m backend\u001b[38;5;241m.\u001b[39msupports_retrieve_callback:\n\u001b[0;32m    733\u001b[0m     \u001b[38;5;66;03m# We assume that the result has already been retrieved by the\u001b[39;00m\n\u001b[0;32m    734\u001b[0m     \u001b[38;5;66;03m# callback thread, and is stored internally. It's just waiting to\u001b[39;00m\n\u001b[0;32m    735\u001b[0m     \u001b[38;5;66;03m# be returned.\u001b[39;00m\n\u001b[1;32m--> 736\u001b[0m     \u001b[38;5;28;01mreturn\u001b[39;00m \u001b[38;5;28;43mself\u001b[39;49m\u001b[38;5;241;43m.\u001b[39;49m\u001b[43m_return_or_raise\u001b[49m\u001b[43m(\u001b[49m\u001b[43m)\u001b[49m\n\u001b[0;32m    738\u001b[0m \u001b[38;5;66;03m# For other backends, the main thread needs to run the retrieval step.\u001b[39;00m\n\u001b[0;32m    739\u001b[0m \u001b[38;5;28;01mtry\u001b[39;00m:\n",
      "File \u001b[1;32mc:\\Users\\meyernil\\.conda\\envs\\fim-python\\Lib\\site-packages\\joblib\\parallel.py:754\u001b[0m, in \u001b[0;36mBatchCompletionCallBack._return_or_raise\u001b[1;34m(self)\u001b[0m\n\u001b[0;32m    752\u001b[0m \u001b[38;5;28;01mtry\u001b[39;00m:\n\u001b[0;32m    753\u001b[0m     \u001b[38;5;28;01mif\u001b[39;00m \u001b[38;5;28mself\u001b[39m\u001b[38;5;241m.\u001b[39mstatus \u001b[38;5;241m==\u001b[39m TASK_ERROR:\n\u001b[1;32m--> 754\u001b[0m         \u001b[38;5;28;01mraise\u001b[39;00m \u001b[38;5;28mself\u001b[39m\u001b[38;5;241m.\u001b[39m_result\n\u001b[0;32m    755\u001b[0m     \u001b[38;5;28;01mreturn\u001b[39;00m \u001b[38;5;28mself\u001b[39m\u001b[38;5;241m.\u001b[39m_result\n\u001b[0;32m    756\u001b[0m \u001b[38;5;28;01mfinally\u001b[39;00m:\n",
      "\u001b[1;31mTypingError\u001b[0m: \u001b[1mFailed in nopython mode pipeline (step: nopython frontend)\n\u001b[1m\u001b[1mUnknown attribute 'asarray' of type Module(<module 'cupy' from 'c:\\\\Users\\\\meyernil\\\\.conda\\\\envs\\\\fim-python\\\\Lib\\\\site-packages\\\\cupy\\\\__init__.py'>)\n\u001b[1m\nFile \"..\\AppData\\Local\\Temp\\ipykernel_29040\\3257026388.py\", line 4:\u001b[0m\n\u001b[1m<source missing, REPL/exec in use?>\u001b[0m\n\u001b[0m\n\u001b[0m\u001b[1mDuring: typing of get attribute at C:\\Users\\meyernil\\AppData\\Local\\Temp\\ipykernel_29040\\3257026388.py (4)\u001b[0m\n\u001b[1m\nFile \"..\\AppData\\Local\\Temp\\ipykernel_29040\\3257026388.py\", line 4:\u001b[0m\n\u001b[1m<source missing, REPL/exec in use?>\u001b[0m\n\u001b[0m"
     ]
    }
   ],
   "source": [
    "# Compute structure tensor\n",
    "bounding_box = np.max(points, axis=0) - np.min(points, axis=0)\n",
    "radius = min(0.25 * np.max(bounding_box), np.min(bounding_box))\n",
    "if device == \"gpu\":\n",
    "   tensors = gpu_tensor_sweep(points, centers, cell_volumes, radius)\n",
    "else:\n",
    "    tensors = tensor_sweep(points, centers, cell_volumes, radius)\n",
    "mesh.point_data[\"Structure_tensor\"] = tensors.reshape((-1, 9))[:, [0, 4, 8, 1, 5, 2]]"
   ]
  },
  {
   "cell_type": "markdown",
   "metadata": {},
   "source": [
    "## Export results"
   ]
  },
  {
   "cell_type": "code",
   "execution_count": 116,
   "metadata": {},
   "outputs": [],
   "source": [
    "if \"gmsh:geometrical\" in mesh.cell_data.keys():\n",
    "    mesh.cell_data.pop(\"gmsh:geometrical\")\n",
    "if \"gmsh:dim_tags\" in mesh.point_data.keys():\n",
    "    mesh.point_data.pop(\"gmsh:dim_tags\")\n",
    "meshio.write(\"control_arm_hole.vtu\", mesh)"
   ]
  }
 ],
 "metadata": {
  "kernelspec": {
   "display_name": "nutils",
   "language": "python",
   "name": "python3"
  },
  "language_info": {
   "codemirror_mode": {
    "name": "ipython",
    "version": 3
   },
   "file_extension": ".py",
   "mimetype": "text/x-python",
   "name": "python",
   "nbconvert_exporter": "python",
   "pygments_lexer": "ipython3",
   "version": "3.11.7"
  },
  "orig_nbformat": 4
 },
 "nbformat": 4,
 "nbformat_minor": 2
}
